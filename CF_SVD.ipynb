{
 "cells": [
  {
   "cell_type": "code",
   "execution_count": 1,
   "metadata": {},
   "outputs": [
    {
     "name": "stdout",
     "output_type": "stream",
     "text": [
      "The history saving thread hit an unexpected error (DatabaseError('database disk image is malformed',)).History will not be written to the database.\n"
     ]
    }
   ],
   "source": [
    "import pandas as pd\n",
    "from surprise import Reader, Dataset, SVD, model_selection, accuracy\n",
    "from surprise.model_selection import train_test_split\n",
    "import numpy as np\n",
    "import matplotlib.pyplot as plt\n",
    "\n",
    "\n",
    "ratings = pd.read_csv(\"ml-25m/ratings.csv\") "
   ]
  },
  {
   "cell_type": "code",
   "execution_count": 2,
   "metadata": {},
   "outputs": [],
   "source": [
    "#Filter data to include movies with at least 14500 ratings and users with at least 250 ratings\n",
    "\n",
    "data = ratings.groupby('movieId').filter(lambda x: len(x) >= 14500)\n",
    "data = data.groupby('userId').filter(lambda x: len(x) >= 250)"
   ]
  },
  {
   "cell_type": "code",
   "execution_count": 3,
   "metadata": {},
   "outputs": [],
   "source": [
    "#Set up a surprise reader to read in data properly\n",
    "\n",
    "reader = Reader()"
   ]
  },
  {
   "cell_type": "code",
   "execution_count": 4,
   "metadata": {},
   "outputs": [],
   "source": [
    "#Create training and test sets\n",
    "\n",
    "data = Dataset.load_from_df(data[['userId', 'movieId', 'rating']], reader)\n",
    "\n",
    "trainset, testset = train_test_split(data, test_size=.2)"
   ]
  },
  {
   "cell_type": "code",
   "execution_count": 5,
   "metadata": {},
   "outputs": [],
   "source": [
    "#Create arrays for number of dimensions and RMSEs\n",
    "\n",
    "dimension_array = np.array((10,20,30,40,50,60,70,80,90,100))\n",
    "rmse_mean_array = np.zeros((dimension_array.shape))"
   ]
  },
  {
   "cell_type": "code",
   "execution_count": 6,
   "metadata": {},
   "outputs": [
    {
     "name": "stdout",
     "output_type": "stream",
     "text": [
      "Number of Dimensions:  10  Validation RMSE:  0.7107260624821977\n",
      "Number of Dimensions:  20  Validation RMSE:  0.702519360386375\n",
      "Number of Dimensions:  30  Validation RMSE:  0.698845810493497\n",
      "Number of Dimensions:  40  Validation RMSE:  0.696400059414706\n",
      "Number of Dimensions:  50  Validation RMSE:  0.695051055048436\n",
      "Number of Dimensions:  60  Validation RMSE:  0.693575390439468\n",
      "Number of Dimensions:  70  Validation RMSE:  0.6928634041585688\n",
      "Number of Dimensions:  80  Validation RMSE:  0.6920549547435055\n",
      "Number of Dimensions:  90  Validation RMSE:  0.691662954284936\n",
      "Number of Dimensions:  100  Validation RMSE:  0.6913427674307979\n"
     ]
    }
   ],
   "source": [
    "#Iterate through each number of dimensions using SVD to minimize the RMSE through cross validation\n",
    "for idx,i in enumerate(dimension_array):\n",
    "    svd = SVD(n_factors = i)\n",
    "    rmse_array = model_selection.cross_validate(svd, data, measures=['RMSE'], cv=5, verbose=False)\n",
    "    rmse_mean = np.mean(rmse_array['test_rmse'])\n",
    "    rmse_mean_array[idx] = rmse_mean\n",
    "    print('Number of Dimensions: ', i, ' Validation RMSE: ', rmse_mean)"
   ]
  },
  {
   "cell_type": "code",
   "execution_count": 7,
   "metadata": {},
   "outputs": [
    {
     "data": {
      "image/png": "[encoded data removed]",
      "text/plain": [
       "<Figure size 432x288 with 1 Axes>"
      ]
     },
     "metadata": {},
     "output_type": "display_data"
    }
   ],
   "source": [
    "#Plot how RMSE changes with number of dimensions\n",
    "\n",
    "plt.plot(dimension_array, rmse_mean_array)\n",
    "plt.title('RMSE with SVD')\n",
    "plt.xlabel('Number of Dimensions')\n",
    "plt.ylabel('RMSE')\n",
    "plt.show()"
   ]
  },
  {
   "cell_type": "code",
   "execution_count": 16,
   "metadata": {},
   "outputs": [
    {
     "name": "stdout",
     "output_type": "stream",
     "text": [
      "Optimal Number of Dimensions:  60\n",
      "Validation RMSE:  0.6932832613093342\n"
     ]
    }
   ],
   "source": [
    "#Find the optimal number of dimensions (minimize RMSE until it starts to plateau)\n",
    "\n",
    "# min_rmse_idx = np.argmin(rmse_mean_array)\n",
    "# optimal_dimension = dimension_array[min_rmse_idx]\n",
    "# print('Number of Dimensions: ', optimal_dimension)\n",
    "\n",
    "for idx in range(1,dimension_array.shape[0]):\n",
    "    if (rmse_mean_array[idx-1] - rmse_mean_array[idx]) < 0.001:\n",
    "        optimal_dimension = dimension_array[idx-1]\n",
    "        break\n",
    "print('Optimal Number of Dimensions: ', optimal_dimension)\n",
    "\n",
    "\n",
    "#Create the final model using SVD and calculate the RMSE on the validation set\n",
    "\n",
    "svd = SVD(n_factors = optimal_dimension)\n",
    "rmse_array = model_selection.cross_validate(svd, data, measures=['RMSE'], cv=5, verbose=False)\n",
    "print('Validation RMSE: ', np.mean(rmse_array['test_rmse']))"
   ]
  },
  {
   "cell_type": "code",
   "execution_count": 17,
   "metadata": {},
   "outputs": [
    {
     "data": {
      "text/plain": [
       "<surprise.prediction_algorithms.matrix_factorization.SVD at 0x7f822febf198>"
      ]
     },
     "execution_count": 17,
     "metadata": {},
     "output_type": "execute_result"
    }
   ],
   "source": [
    "#Fit the optimal model to the training set\n",
    "\n",
    "svd.fit(trainset)"
   ]
  },
  {
   "cell_type": "code",
   "execution_count": 18,
   "metadata": {},
   "outputs": [
    {
     "name": "stdout",
     "output_type": "stream",
     "text": [
      "RMSE: 0.6936\n",
      "Test RMSE:  0.6935619524234605\n"
     ]
    }
   ],
   "source": [
    "#Make predictions on the test set and calculate the test set RMSE\n",
    "\n",
    "predictions = svd.test(testset)\n",
    "df = pd.DataFrame(predictions)\n",
    "\n",
    "print('Test RMSE: ', accuracy.rmse(predictions))"
   ]
  },
  {
   "cell_type": "code",
   "execution_count": 19,
   "metadata": {},
   "outputs": [],
   "source": [
    "#Create new user IDs to match initial ones\n",
    "\n",
    "userID_list = df['uid'].unique()\n",
    "\n",
    "new_uid = np.zeros((len(df),1))\n",
    "for i in range(len(df)):\n",
    "  new_uid[i,] = np.where(userID_list == df['uid'].iloc[i])\n",
    "\n",
    "df['uid2'] = new_uid"
   ]
  },
  {
   "cell_type": "code",
   "execution_count": 20,
   "metadata": {},
   "outputs": [],
   "source": [
    "#Find top 25 recommended movies for each user\n",
    "\n",
    "recommendations_indices = np.zeros(shape = (len(userID_list),25))\n",
    "\n",
    "for i in range(0,len(userID_list)):\n",
    "    userdf = df[df['uid2']==i]\n",
    "    top = userdf.nlargest(25, 'est')\n",
    "    recommendations = top['iid']\n",
    "    recommendations_indices[i,:] = recommendations.values"
   ]
  },
  {
   "cell_type": "code",
   "execution_count": 21,
   "metadata": {},
   "outputs": [
    {
     "name": "stdout",
     "output_type": "stream",
     "text": [
      "Average Precision:  0.01444959851096553\n",
      "Average Recall:  0.604550878118764\n",
      "Average F1 Score:  0.028165961144389188\n"
     ]
    }
   ],
   "source": [
    "#Calculate average precision, recall, and F1 scores\n",
    "\n",
    "precision_matrix = np.zeros(shape=(len(userID_list)))\n",
    "recall_matrix = np.zeros(shape=(len(userID_list)))\n",
    "f1_matrix = np.zeros(shape=(len(userID_list)))\n",
    "\n",
    "for idx,i in enumerate(userID_list):\n",
    "    userdf = df[df['uid2']==idx]\n",
    "    top_movies_rated = userdf[userdf['r_ui']>=3.5]\n",
    "\n",
    "    top_rated_indices = top_movies_rated['iid'].values\n",
    "    \n",
    "    tp = len(np.intersect1d(recommendations_indices[idx,:], top_rated_indices))\n",
    "    fp = len(recommendations_indices)-tp\n",
    "    fn = len(top_rated_indices)-tp\n",
    "\n",
    "    precision = tp / (tp + fp + 1e-10)\n",
    "    precision_matrix[idx] = precision\n",
    "    recall = tp / (tp + fn + 1e-10)\n",
    "    recall_matrix[idx] = recall\n",
    "\n",
    "    f1 = 2.0 * (precision * recall) / (precision + recall + 1e-10)\n",
    "    f1_matrix[idx] = f1\n",
    "\n",
    "\n",
    "avg_precision = np.average(precision_matrix)\n",
    "avg_recall = np.average(recall_matrix)\n",
    "avg_f1 = np.average(f1_matrix)\n",
    "print('Average Precision: ', avg_precision)\n",
    "print('Average Recall: ', avg_recall)\n",
    "print('Average F1 Score: ', avg_f1)"
   ]
  }
 ],
 "metadata": {
  "kernelspec": {
   "display_name": "Python 3",
   "language": "python",
   "name": "python3"
  },
  "language_info": {
   "codemirror_mode": {
    "name": "ipython",
    "version": 3
   },
   "file_extension": ".py",
   "mimetype": "text/x-python",
   "name": "python",
   "nbconvert_exporter": "python",
   "pygments_lexer": "ipython3",
   "version": "3.6.7"
  }
 },
 "nbformat": 4,
 "nbformat_minor": 2
}
