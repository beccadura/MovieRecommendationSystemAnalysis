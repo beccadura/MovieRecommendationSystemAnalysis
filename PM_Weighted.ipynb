{
 "cells": [
  {
   "cell_type": "code",
   "execution_count": 1,
   "metadata": {
    "id": "xZ3EXaz5qrmf"
   },
   "outputs": [
    {
     "name": "stdout",
     "output_type": "stream",
     "text": [
      "The history saving thread hit an unexpected error (DatabaseError('database disk image is malformed',)).History will not be written to the database.\n"
     ]
    }
   ],
   "source": [
    "import pandas as pd\n",
    "import numpy as np\n",
    "\n",
    "movies = pd.read_csv(\"ml-25m/movies.csv\") \n",
    "ratings = pd.read_csv(\"ml-25m/ratings.csv\") "
   ]
  },
  {
   "cell_type": "code",
   "execution_count": 2,
   "metadata": {},
   "outputs": [
    {
     "name": "stdout",
     "output_type": "stream",
     "text": [
      "<class 'pandas.core.frame.DataFrame'>\n",
      "Int64Index: 407450 entries, 51820 to 24996197\n",
      "Data columns (total 4 columns):\n",
      " #   Column     Non-Null Count   Dtype  \n",
      "---  ------     --------------   -----  \n",
      " 0   userId     407450 non-null  int64  \n",
      " 1   movieId    407450 non-null  int64  \n",
      " 2   rating     407450 non-null  float64\n",
      " 3   timestamp  407450 non-null  int64  \n",
      "dtypes: float64(1), int64(3)\n",
      "memory usage: 15.5 MB\n"
     ]
    }
   ],
   "source": [
    "#Filter data to include movies with at least 14500 ratings and users with at least 250 ratings\n",
    "\n",
    "data = ratings.groupby('movieId').filter(lambda x: len(x) >= 14500)\n",
    "data = data.groupby('userId').filter(lambda x: len(x) >= 250)\n",
    "data.info()"
   ]
  },
  {
   "cell_type": "code",
   "execution_count": 3,
   "metadata": {
    "id": "742EILjB86w4"
   },
   "outputs": [],
   "source": [
    "#Create summaries of the dataset containing the ratings (i.e. counts and means)\n",
    "\n",
    "stats = data.groupby('movieId')[['rating']].describe()"
   ]
  },
  {
   "cell_type": "code",
   "execution_count": 4,
   "metadata": {
    "colab": {
     "base_uri": "https://localhost:8080/",
     "height": 523
    },
    "id": "I5CoDej49r5e",
    "outputId": "36f7c705-32f6-4f67-b5f8-65fed3af26ea"
   },
   "outputs": [],
   "source": [
    "# stats.info()\n",
    "# stats.head()"
   ]
  },
  {
   "cell_type": "code",
   "execution_count": 5,
   "metadata": {
    "id": "hFcXNJCO868Q"
   },
   "outputs": [],
   "source": [
    "#Create the weighted average for each movie using the IMDB weighted average rating formula\n",
    "\n",
    "V = stats['rating','count']\n",
    "R = stats['rating','mean']\n",
    "C = stats['rating','mean'].mean()\n",
    "m = float(10000)\n",
    "\n",
    "stats['rating','weighted_average'] = ((R*V) + (C*m)) / (V+m)"
   ]
  },
  {
   "cell_type": "code",
   "execution_count": 6,
   "metadata": {
    "colab": {
     "base_uri": "https://localhost:8080/",
     "height": 541
    },
    "id": "-0d7xx7N_ld4",
    "outputId": "079fd8cf-0696-4413-cb94-98932aa7f02f"
   },
   "outputs": [],
   "source": [
    "# stats.info()\n",
    "# stats.head()"
   ]
  },
  {
   "cell_type": "code",
   "execution_count": 7,
   "metadata": {
    "colab": {
     "base_uri": "https://localhost:8080/",
     "height": 72
    },
    "id": "1YpfP86Z_xW_",
    "outputId": "2362bfe0-1c99-4a8b-fc9e-6791f9f8529e"
   },
   "outputs": [
    {
     "name": "stderr",
     "output_type": "stream",
     "text": [
      "/usr/local/lib/python3.6/dist-packages/pandas/core/reshape/merge.py:643: UserWarning: merging between different levels can give an unintended result (1 levels on the left,2 on the right)\n",
      "  warnings.warn(msg, UserWarning)\n"
     ]
    }
   ],
   "source": [
    "#Merge the weighted averages with the movies dataset \n",
    "\n",
    "movies_ratings_weighted = pd.merge(left=movies, right=stats, left_on='movieId', right_on='movieId')"
   ]
  },
  {
   "cell_type": "code",
   "execution_count": 8,
   "metadata": {
    "colab": {
     "base_uri": "https://localhost:8080/",
     "height": 658
    },
    "id": "pKu6-MZpAK0o",
    "outputId": "67000559-737a-4be7-c004-40b28857e521"
   },
   "outputs": [],
   "source": [
    "#Sort new dataset in descending order according the the weighted average ratings\n",
    "\n",
    "movies_ratings_weighted = movies_ratings_weighted.sort_values(('rating','weighted_average'), ascending=False)"
   ]
  },
  {
   "cell_type": "code",
   "execution_count": 13,
   "metadata": {},
   "outputs": [
    {
     "name": "stderr",
     "output_type": "stream",
     "text": [
      "/usr/local/lib/python3.6/dist-packages/numpy/core/_asarray.py:83: VisibleDeprecationWarning: Creating an ndarray from ragged nested sequences (which is a list-or-tuple of lists-or-tuples-or ndarrays with different lengths or shapes) is deprecated. If you meant to do this, you must specify 'dtype=object' when creating the ndarray\n",
      "  return array(a, dtype, copy=False, order=order)\n"
     ]
    },
    {
     "data": {
      "text/html": [
       "<div>\n",
       "<style scoped>\n",
       "    .dataframe tbody tr th:only-of-type {\n",
       "        vertical-align: middle;\n",
       "    }\n",
       "\n",
       "    .dataframe tbody tr th {\n",
       "        vertical-align: top;\n",
       "    }\n",
       "\n",
       "    .dataframe thead th {\n",
       "        text-align: right;\n",
       "    }\n",
       "</style>\n",
       "<table border=\"1\" class=\"dataframe\">\n",
       "  <thead>\n",
       "    <tr style=\"text-align: right;\">\n",
       "      <th></th>\n",
       "      <th>title</th>\n",
       "      <th>genres</th>\n",
       "      <th>(rating, weighted_average)</th>\n",
       "    </tr>\n",
       "  </thead>\n",
       "  <tbody>\n",
       "    <tr>\n",
       "      <th>42</th>\n",
       "      <td>Shawshank Redemption, The (1994)</td>\n",
       "      <td>Crime|Drama</td>\n",
       "      <td>3.704187</td>\n",
       "    </tr>\n",
       "    <tr>\n",
       "      <th>38</th>\n",
       "      <td>Pulp Fiction (1994)</td>\n",
       "      <td>Comedy|Crime|Drama|Thriller</td>\n",
       "      <td>3.703415</td>\n",
       "    </tr>\n",
       "    <tr>\n",
       "      <th>92</th>\n",
       "      <td>Godfather, The (1972)</td>\n",
       "      <td>Crime|Drama</td>\n",
       "      <td>3.698744</td>\n",
       "    </tr>\n",
       "    <tr>\n",
       "      <th>205</th>\n",
       "      <td>Matrix, The (1999)</td>\n",
       "      <td>Action|Sci-Fi|Thriller</td>\n",
       "      <td>3.691464</td>\n",
       "    </tr>\n",
       "    <tr>\n",
       "      <th>119</th>\n",
       "      <td>Raiders of the Lost Ark (Indiana Jones and the...</td>\n",
       "      <td>Action|Adventure</td>\n",
       "      <td>3.691412</td>\n",
       "    </tr>\n",
       "    <tr>\n",
       "      <th>...</th>\n",
       "      <td>...</td>\n",
       "      <td>...</td>\n",
       "      <td>...</td>\n",
       "    </tr>\n",
       "    <tr>\n",
       "      <th>28</th>\n",
       "      <td>Waterworld (1995)</td>\n",
       "      <td>Action|Adventure|Sci-Fi</td>\n",
       "      <td>3.485159</td>\n",
       "    </tr>\n",
       "    <tr>\n",
       "      <th>243</th>\n",
       "      <td>Charlie's Angels (2000)</td>\n",
       "      <td>Action|Comedy</td>\n",
       "      <td>3.481813</td>\n",
       "    </tr>\n",
       "    <tr>\n",
       "      <th>7</th>\n",
       "      <td>Ace Ventura: When Nature Calls (1995)</td>\n",
       "      <td>Comedy</td>\n",
       "      <td>3.476548</td>\n",
       "    </tr>\n",
       "    <tr>\n",
       "      <th>26</th>\n",
       "      <td>Judge Dredd (1995)</td>\n",
       "      <td>Action|Crime|Sci-Fi</td>\n",
       "      <td>3.471834</td>\n",
       "    </tr>\n",
       "    <tr>\n",
       "      <th>23</th>\n",
       "      <td>Batman Forever (1995)</td>\n",
       "      <td>Action|Adventure|Comedy|Crime</td>\n",
       "      <td>3.464949</td>\n",
       "    </tr>\n",
       "  </tbody>\n",
       "</table>\n",
       "<p>335 rows × 3 columns</p>\n",
       "</div>"
      ],
      "text/plain": [
       "                                                 title  \\\n",
       "42                    Shawshank Redemption, The (1994)   \n",
       "38                                 Pulp Fiction (1994)   \n",
       "92                               Godfather, The (1972)   \n",
       "205                                 Matrix, The (1999)   \n",
       "119  Raiders of the Lost Ark (Indiana Jones and the...   \n",
       "..                                                 ...   \n",
       "28                                   Waterworld (1995)   \n",
       "243                            Charlie's Angels (2000)   \n",
       "7                Ace Ventura: When Nature Calls (1995)   \n",
       "26                                  Judge Dredd (1995)   \n",
       "23                               Batman Forever (1995)   \n",
       "\n",
       "                            genres  (rating, weighted_average)  \n",
       "42                     Crime|Drama                    3.704187  \n",
       "38     Comedy|Crime|Drama|Thriller                    3.703415  \n",
       "92                     Crime|Drama                    3.698744  \n",
       "205         Action|Sci-Fi|Thriller                    3.691464  \n",
       "119               Action|Adventure                    3.691412  \n",
       "..                             ...                         ...  \n",
       "28         Action|Adventure|Sci-Fi                    3.485159  \n",
       "243                  Action|Comedy                    3.481813  \n",
       "7                           Comedy                    3.476548  \n",
       "26             Action|Crime|Sci-Fi                    3.471834  \n",
       "23   Action|Adventure|Comedy|Crime                    3.464949  \n",
       "\n",
       "[335 rows x 3 columns]"
      ]
     },
     "execution_count": 13,
     "metadata": {},
     "output_type": "execute_result"
    }
   ],
   "source": [
    "#Shows the movies recommended in descending order like a recommender system would\n",
    "\n",
    "movies_ratings_weighted[['title','genres',('rating','weighted_average')]]"
   ]
  },
  {
   "cell_type": "code",
   "execution_count": 10,
   "metadata": {},
   "outputs": [],
   "source": [
    "#Find the 25 movies with the highest weighted average ratings to recommend\n",
    "\n",
    "movies_ratings_weighted_indices = movies_ratings_weighted['movieId'][0:25]"
   ]
  },
  {
   "cell_type": "code",
   "execution_count": 11,
   "metadata": {},
   "outputs": [],
   "source": [
    "#Create a list of all unique users\n",
    "\n",
    "userID_list = data['userId'].unique()"
   ]
  },
  {
   "cell_type": "code",
   "execution_count": 14,
   "metadata": {},
   "outputs": [
    {
     "name": "stdout",
     "output_type": "stream",
     "text": [
      "Average Precision:  0.8504183535728467\n",
      "Average Recall:  0.11872195741399366\n",
      "Average F1 Score:  0.20626861389033235\n"
     ]
    }
   ],
   "source": [
    "#Calculate average precision, recall, and F1 scores\n",
    "\n",
    "precision_matrix = np.zeros(shape=(len(userID_list)))\n",
    "recall_matrix = np.zeros(shape=(len(userID_list)))\n",
    "f1_matrix = np.zeros(shape=(len(userID_list)))\n",
    "\n",
    "for idx,i in enumerate(userID_list):\n",
    "    userdf = data[data['userId']==i]\n",
    "    top_movies_rated = userdf[userdf['rating']>=3.5]\n",
    "\n",
    "    top_rated_indices = top_movies_rated['movieId'].values\n",
    "    \n",
    "    tp = len(np.intersect1d(movies_ratings_weighted_indices, top_rated_indices))\n",
    "    fp = len(movies_ratings_weighted_indices)-tp\n",
    "    fn = len(top_rated_indices)-tp\n",
    "\n",
    "    precision = tp / (tp + fp + 1e-10)\n",
    "    precision_matrix[idx] = precision\n",
    "    \n",
    "    recall = tp / (tp + fn + 1e-10)\n",
    "    recall_matrix[idx] = recall\n",
    "\n",
    "    f1 = 2.0 * (precision * recall) / (precision + recall + 1e-10)\n",
    "    f1_matrix[idx] = f1\n",
    "\n",
    "\n",
    "avg_precision = np.average(precision_matrix)\n",
    "avg_recall = np.average(recall_matrix)\n",
    "avg_f1 = np.average(f1_matrix)\n",
    "print('Average Precision: ', avg_precision)\n",
    "print('Average Recall: ', avg_recall)\n",
    "print('Average F1 Score: ', avg_f1)"
   ]
  }
 ],
 "metadata": {
  "colab": {
   "name": "MovieLensDataAnalysis.ipynb",
   "provenance": []
  },
  "kernelspec": {
   "display_name": "Python 3",
   "language": "python",
   "name": "python3"
  },
  "language_info": {
   "codemirror_mode": {
    "name": "ipython",
    "version": 3
   },
   "file_extension": ".py",
   "mimetype": "text/x-python",
   "name": "python",
   "nbconvert_exporter": "python",
   "pygments_lexer": "ipython3",
   "version": "3.6.7"
  }
 },
 "nbformat": 4,
 "nbformat_minor": 1
}
