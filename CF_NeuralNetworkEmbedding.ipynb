{
 "cells": [
  {
   "cell_type": "code",
   "execution_count": 1,
   "metadata": {},
   "outputs": [
    {
     "name": "stdout",
     "output_type": "stream",
     "text": [
      "The history saving thread hit an unexpected error (DatabaseError('database disk image is malformed',)).History will not be written to the database.\n"
     ]
    },
    {
     "name": "stderr",
     "output_type": "stream",
     "text": [
      "/usr/local/lib/python3.6/dist-packages/tensorflow/python/framework/dtypes.py:523: FutureWarning: Passing (type, 1) or '1type' as a synonym of type is deprecated; in a future version of numpy, it will be understood as (type, (1,)) / '(1,)type'.\n",
      "  _np_qint8 = np.dtype([(\"qint8\", np.int8, 1)])\n",
      "/usr/local/lib/python3.6/dist-packages/tensorflow/python/framework/dtypes.py:524: FutureWarning: Passing (type, 1) or '1type' as a synonym of type is deprecated; in a future version of numpy, it will be understood as (type, (1,)) / '(1,)type'.\n",
      "  _np_quint8 = np.dtype([(\"quint8\", np.uint8, 1)])\n",
      "/usr/local/lib/python3.6/dist-packages/tensorflow/python/framework/dtypes.py:525: FutureWarning: Passing (type, 1) or '1type' as a synonym of type is deprecated; in a future version of numpy, it will be understood as (type, (1,)) / '(1,)type'.\n",
      "  _np_qint16 = np.dtype([(\"qint16\", np.int16, 1)])\n",
      "/usr/local/lib/python3.6/dist-packages/tensorflow/python/framework/dtypes.py:526: FutureWarning: Passing (type, 1) or '1type' as a synonym of type is deprecated; in a future version of numpy, it will be understood as (type, (1,)) / '(1,)type'.\n",
      "  _np_quint16 = np.dtype([(\"quint16\", np.uint16, 1)])\n",
      "/usr/local/lib/python3.6/dist-packages/tensorflow/python/framework/dtypes.py:527: FutureWarning: Passing (type, 1) or '1type' as a synonym of type is deprecated; in a future version of numpy, it will be understood as (type, (1,)) / '(1,)type'.\n",
      "  _np_qint32 = np.dtype([(\"qint32\", np.int32, 1)])\n",
      "/usr/local/lib/python3.6/dist-packages/tensorflow/python/framework/dtypes.py:532: FutureWarning: Passing (type, 1) or '1type' as a synonym of type is deprecated; in a future version of numpy, it will be understood as (type, (1,)) / '(1,)type'.\n",
      "  np_resource = np.dtype([(\"resource\", np.ubyte, 1)])\n",
      "/usr/local/lib/python3.6/dist-packages/tensorboard/compat/tensorflow_stub/dtypes.py:541: FutureWarning: Passing (type, 1) or '1type' as a synonym of type is deprecated; in a future version of numpy, it will be understood as (type, (1,)) / '(1,)type'.\n",
      "  _np_qint8 = np.dtype([(\"qint8\", np.int8, 1)])\n",
      "/usr/local/lib/python3.6/dist-packages/tensorboard/compat/tensorflow_stub/dtypes.py:542: FutureWarning: Passing (type, 1) or '1type' as a synonym of type is deprecated; in a future version of numpy, it will be understood as (type, (1,)) / '(1,)type'.\n",
      "  _np_quint8 = np.dtype([(\"quint8\", np.uint8, 1)])\n",
      "/usr/local/lib/python3.6/dist-packages/tensorboard/compat/tensorflow_stub/dtypes.py:543: FutureWarning: Passing (type, 1) or '1type' as a synonym of type is deprecated; in a future version of numpy, it will be understood as (type, (1,)) / '(1,)type'.\n",
      "  _np_qint16 = np.dtype([(\"qint16\", np.int16, 1)])\n",
      "/usr/local/lib/python3.6/dist-packages/tensorboard/compat/tensorflow_stub/dtypes.py:544: FutureWarning: Passing (type, 1) or '1type' as a synonym of type is deprecated; in a future version of numpy, it will be understood as (type, (1,)) / '(1,)type'.\n",
      "  _np_quint16 = np.dtype([(\"quint16\", np.uint16, 1)])\n",
      "/usr/local/lib/python3.6/dist-packages/tensorboard/compat/tensorflow_stub/dtypes.py:545: FutureWarning: Passing (type, 1) or '1type' as a synonym of type is deprecated; in a future version of numpy, it will be understood as (type, (1,)) / '(1,)type'.\n",
      "  _np_qint32 = np.dtype([(\"qint32\", np.int32, 1)])\n",
      "/usr/local/lib/python3.6/dist-packages/tensorboard/compat/tensorflow_stub/dtypes.py:550: FutureWarning: Passing (type, 1) or '1type' as a synonym of type is deprecated; in a future version of numpy, it will be understood as (type, (1,)) / '(1,)type'.\n",
      "  np_resource = np.dtype([(\"resource\", np.ubyte, 1)])\n"
     ]
    }
   ],
   "source": [
    "import numpy as np\n",
    "import pandas as pd\n",
    "from sklearn.model_selection import train_test_split\n",
    "import tensorflow as tf\n",
    "import matplotlib.pyplot as plt\n",
    "\n",
    "ratings = pd.read_csv(\"new_movies.csv\") "
   ]
  },
  {
   "cell_type": "code",
   "execution_count": 2,
   "metadata": {},
   "outputs": [],
   "source": [
    "#Get the number of unique users and movies\n",
    "\n",
    "num_users = ratings['userId2'].nunique()\n",
    "num_movies = ratings['movieId2'].nunique()"
   ]
  },
  {
   "cell_type": "code",
   "execution_count": 3,
   "metadata": {},
   "outputs": [],
   "source": [
    "#Set up the training, validation, and test sets\n",
    "\n",
    "X = ratings[['userId2', 'movieId2','rating']].values\n",
    "y = ratings['rating'].values\n",
    "X_train, X_test, y_train, y_test = train_test_split(X, y, test_size=0.2, random_state=42)\n",
    "# X_train.shape, X_test.shape, y_train.shape, y_test.shape"
   ]
  },
  {
   "cell_type": "code",
   "execution_count": 4,
   "metadata": {},
   "outputs": [],
   "source": [
    "X_train_train, X_val, y_train_train, y_val = train_test_split(X_train, y_train, test_size=0.2, random_state=42)\n",
    "# X_train_train.shape, X_val.shape, y_train_train.shape, y_val.shape"
   ]
  },
  {
   "cell_type": "code",
   "execution_count": 5,
   "metadata": {},
   "outputs": [],
   "source": [
    "X_train_array = [X_train[:, 0], X_train[:, 1]]\n",
    "X_test_array = [X_test[:, 0], X_test[:, 1]]"
   ]
  },
  {
   "cell_type": "code",
   "execution_count": 6,
   "metadata": {},
   "outputs": [],
   "source": [
    "X_train_train_array = [X_train_train[:, 0], X_train_train[:, 1]]\n",
    "X_val_array = [X_val[:, 0], X_val[:, 1]]"
   ]
  },
  {
   "cell_type": "code",
   "execution_count": 7,
   "metadata": {},
   "outputs": [],
   "source": [
    "#Set up arrays for each number of dimensions and the RMSEs\n",
    "\n",
    "num_factors_array = np.array((10,20,30,40,50,60,70,80,90,100))\n",
    "rmse_array = np.zeros((num_factors_array.shape))"
   ]
  },
  {
   "cell_type": "code",
   "execution_count": 8,
   "metadata": {},
   "outputs": [],
   "source": [
    "#Function to create tensorflow model for the movie recommender\n",
    "\n",
    "def MovieRecommender(num_users, num_movies, num_factors):\n",
    "    user_input = tf.keras.layers.Input(shape=(1,))\n",
    "    users = tf.keras.layers.Embedding(num_users, num_factors)(user_input)\n",
    "    users = tf.keras.layers.Reshape((num_factors,))(users)\n",
    "    \n",
    "    movie_input = tf.keras.layers.Input(shape=(1,))\n",
    "    movies = tf.keras.layers.Embedding(num_movies, num_factors)(movie_input)\n",
    "    movies = tf.keras.layers.Reshape((num_factors,))(movies)\n",
    "    \n",
    "    dot_product = tf.keras.layers.Dot(axes=1)([users, movies])\n",
    "    model = tf.keras.models.Model(inputs=[user_input, movie_input], outputs=dot_product)\n",
    "    model.compile(loss='mean_squared_error', optimizer = tf.keras.optimizers.Adam(lr=0.001), metrics=['mean_squared_error'])\n",
    "    return model"
   ]
  },
  {
   "cell_type": "code",
   "execution_count": 10,
   "metadata": {},
   "outputs": [
    {
     "name": "stdout",
     "output_type": "stream",
     "text": [
      "Number of Dimensions:  10  Validation RMSE:  0.61913705\n",
      "Number of Dimensions:  20  Validation RMSE:  0.5331902\n",
      "Number of Dimensions:  30  Validation RMSE:  0.55625486\n",
      "Number of Dimensions:  40  Validation RMSE:  0.5932095\n",
      "Number of Dimensions:  50  Validation RMSE:  0.6203899\n",
      "Number of Dimensions:  60  Validation RMSE:  0.65357536\n",
      "Number of Dimensions:  70  Validation RMSE:  0.6986598\n",
      "Number of Dimensions:  80  Validation RMSE:  0.7615366\n",
      "Number of Dimensions:  90  Validation RMSE:  0.77375275\n",
      "Number of Dimensions:  100  Validation RMSE:  0.8523783\n"
     ]
    }
   ],
   "source": [
    "#Iterate through each number of dimensions, create the model, and compute the validation RMSE\n",
    "\n",
    "for idx,i in enumerate(num_factors_array):   \n",
    "    model = MovieRecommender(num_users, num_movies, i)\n",
    "    es = tf.keras.callbacks.EarlyStopping(monitor='loss', mode='min', min_delta=0.01, patience=2)\n",
    "    history = model.fit(X_train_train_array, y_train_train, epochs=1000, batch_size=32, callbacks=[es],verbose=0)\n",
    "    rmse = model.evaluate(X_val_array, y_val,verbose=0)\n",
    "    rmse = rmse[1]\n",
    "    print('Number of Dimensions: ', i, ' Validation RMSE: ', rmse)\n",
    "    rmse_array[idx] = rmse"
   ]
  },
  {
   "cell_type": "code",
   "execution_count": 11,
   "metadata": {},
   "outputs": [
    {
     "data": {
      "image/png": "[encoded data removed]",
      "text/plain": [
       "<Figure size 432x288 with 1 Axes>"
      ]
     },
     "metadata": {},
     "output_type": "display_data"
    }
   ],
   "source": [
    "#Plot how RMSE changes with the number of dimensions\n",
    "\n",
    "plt.plot(num_factors_array, rmse_array)\n",
    "plt.title('RMSE with Embedding Neural Network')\n",
    "plt.xlabel('Number of Dimensions')\n",
    "plt.ylabel('RMSE')\n",
    "plt.show()"
   ]
  },
  {
   "cell_type": "code",
   "execution_count": 12,
   "metadata": {},
   "outputs": [
    {
     "name": "stdout",
     "output_type": "stream",
     "text": [
      "Optimal Number of Dimensions:  20\n",
      "Test RMSE:  0.5044226\n"
     ]
    }
   ],
   "source": [
    "#Find the optimal number of dimensions (minimize RMSE)\n",
    "\n",
    "optimal_idx = np.argmin(rmse_array)\n",
    "optimal_dimensions = num_factors_array[optimal_idx]\n",
    "\n",
    "# for idx in range(1,num_factors_array.shape[0]):\n",
    "#     if (rmse_array[idx-1] - rmse_array[idx]) < 0.001:\n",
    "#         optimal_dimensions = num_factors_array[idx-1]\n",
    "#         break\n",
    "\n",
    "print('Optimal Number of Dimensions: ', optimal_dimensions)\n",
    "\n",
    "\n",
    "#Build model with optimal number of dimensions and calculate RMSE on test set\n",
    "\n",
    "model = MovieRecommender(num_users, num_movies, optimal_dimensions)\n",
    "es = tf.keras.callbacks.EarlyStopping(monitor='loss', mode='min', min_delta=0.01, patience=2)\n",
    "history = model.fit(X_train_array, y_train, epochs=1000, batch_size=32, callbacks=[es],verbose=0)\n",
    "rmse = model.evaluate(X_test_array, y_test,verbose=0)\n",
    "print('Test RMSE: ', rmse[1])"
   ]
  },
  {
   "cell_type": "code",
   "execution_count": 13,
   "metadata": {},
   "outputs": [],
   "source": [
    "#Make predictions for test set\n",
    "\n",
    "predictions = model.predict(X_test_array, verbose=0)"
   ]
  },
  {
   "cell_type": "code",
   "execution_count": 14,
   "metadata": {},
   "outputs": [
    {
     "name": "stdout",
     "output_type": "stream",
     "text": [
      "Average Precision:  0.014391319313542933\n",
      "Average Recall:  0.6013909886388143\n",
      "Average F1 Score:  0.028050117712374548\n"
     ]
    }
   ],
   "source": [
    "#Calculate average precision, recall, and F1 scores\n",
    "\n",
    "X_test_df = pd.DataFrame(X_test)\n",
    "\n",
    "X_predicted = pd.DataFrame(X_test)\n",
    "\n",
    "X_predicted[2] = predictions\n",
    "\n",
    "userID_list = X_test_df[0].unique()\n",
    "\n",
    "recommendations_indices = np.zeros(shape = (len(userID_list),25))\n",
    "\n",
    "for idx,i in enumerate(userID_list):\n",
    "    pred_df = X_predicted[X_predicted[0]==i]\n",
    "    top = pred_df.nlargest(25, 2)\n",
    "    recommendations = top[1].values\n",
    "    recommendations_indices[idx,:] = recommendations\n",
    "\n",
    "precision_matrix = np.zeros(shape=(len(userID_list)))\n",
    "recall_matrix = np.zeros(shape=(len(userID_list)))\n",
    "f1_matrix = np.zeros(shape=(len(userID_list)))\n",
    "\n",
    "for idx,i in enumerate(userID_list):\n",
    "    ratings_df = X_test_df[X_test_df[0]==i]\n",
    "    top_movies_rated = ratings_df[ratings_df[2]>=3.5]\n",
    "    top_rated_indices = top_movies_rated[1].values\n",
    "    \n",
    "    tp = len(np.intersect1d(recommendations_indices[idx,:], top_rated_indices))\n",
    "    fp = len(recommendations_indices)-tp\n",
    "    fn = len(top_rated_indices)-tp\n",
    "\n",
    "    precision = tp / (tp + fp + 1e-10)\n",
    "    precision_matrix[idx] = precision\n",
    "    recall = tp / (tp + fn + 1e-10)\n",
    "    recall_matrix[idx] = recall\n",
    "    f1 = 2.0 * (precision * recall) / (precision + recall + 1e-10)\n",
    "    f1_matrix[idx] = f1\n",
    "\n",
    "\n",
    "avg_precision = np.average(precision_matrix)\n",
    "avg_recall = np.average(recall_matrix)\n",
    "avg_f1 = np.average(f1_matrix)\n",
    "print('Average Precision: ', avg_precision)\n",
    "print('Average Recall: ', avg_recall)\n",
    "print('Average F1 Score: ', avg_f1)"
   ]
  }
 ],
 "metadata": {
  "kernelspec": {
   "display_name": "Python 3",
   "language": "python",
   "name": "python3"
  },
  "language_info": {
   "codemirror_mode": {
    "name": "ipython",
    "version": 3
   },
   "file_extension": ".py",
   "mimetype": "text/x-python",
   "name": "python",
   "nbconvert_exporter": "python",
   "pygments_lexer": "ipython3",
   "version": "3.6.7"
  }
 },
 "nbformat": 4,
 "nbformat_minor": 2
}
