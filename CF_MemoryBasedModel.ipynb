{
 "cells": [
  {
   "cell_type": "code",
   "execution_count": 1,
   "metadata": {},
   "outputs": [
    {
     "name": "stdout",
     "output_type": "stream",
     "text": [
      "The history saving thread hit an unexpected error (DatabaseError('database disk image is malformed',)).History will not be written to the database.\n"
     ]
    }
   ],
   "source": [
    "import pandas as pd\n",
    "import numpy as np\n",
    "import matplotlib.pyplot as plt\n",
    "\n",
    "users_similarity = pd.read_csv(\"users_similarity.csv\", header=None)\n",
    "movie_ratings = pd.read_csv(\"users.csv\", header=None)"
   ]
  },
  {
   "cell_type": "code",
   "execution_count": 2,
   "metadata": {},
   "outputs": [],
   "source": [
    "#Create training, validation, and test sets\n",
    "\n",
    "np.random.seed(1234)\n",
    "train_set = np.random.choice(users_similarity.shape[0], int(0.8*users_similarity.shape[0]), replace=False)\n",
    "test_set = np.setdiff1d(range(users_similarity.shape[0]),train_set)\n",
    "\n",
    "train_only_set = np.random.choice(train_set.shape[0], int(0.8*train_set.shape[0]), replace=False)\n",
    "val_set = np.setdiff1d(range(train_set.shape[0]),train_only_set)\n",
    "\n",
    "whole_train = users_similarity.loc[train_set][train_set]\n",
    "train = users_similarity.loc[train_only_set][train_only_set]\n",
    "val = users_similarity.loc[train_only_set][val_set]\n",
    "test = users_similarity.loc[train_set][test_set]"
   ]
  },
  {
   "cell_type": "code",
   "execution_count": 3,
   "metadata": {},
   "outputs": [],
   "source": [
    "#Main function where k-nearest-neighbors is used to find the k most similar neighbors, \n",
    "#calculate the average rating among those neighbors for each movie.\n",
    "#Then, the RMSE is calculated.\n",
    "\n",
    "def test_model(num, test_array, test_indexes):    \n",
    "    num = num\n",
    "\n",
    "    total_array = np.zeros((len(test_array.columns),num))\n",
    "    idx = 0\n",
    "    for i in test_array:\n",
    "        number = 0\n",
    "        array_num = np.zeros((len(test_array[i])))\n",
    "        for j in test_array[i]:\n",
    "            array_num[number] = j\n",
    "            number += 1\n",
    "        sim_users = array_num.argsort()[-num:]\n",
    "        total_array[idx,:] = sim_users\n",
    "        idx += 1\n",
    "\n",
    "\n",
    "    predicted_ratings = np.zeros((total_array.shape[0],len(movie_ratings.columns)))\n",
    "    for idx,i in enumerate(total_array):\n",
    "        sum_ratings = movie_ratings.loc[total_array[idx,0],:]\n",
    "        for x in range(1,num):\n",
    "            sum_ratings += movie_ratings.loc[total_array[idx,x],:]\n",
    "\n",
    "        avg = sum_ratings / num\n",
    "        predicted_ratings[idx,:] = round(avg*2)/2\n",
    "\n",
    "    actual_ratings = movie_ratings.loc[test_indexes,:]\n",
    "\n",
    "\n",
    "    total = 0\n",
    "    incorrect = 0\n",
    "    sum_xi = 0\n",
    "    for i in range(predicted_ratings.shape[0]):\n",
    "        for j in range(predicted_ratings.shape[1]):\n",
    "            if actual_ratings.iloc[i,j] != 0.0:\n",
    "                sum_xi += (actual_ratings.iloc[i,j]-predicted_ratings[i,j])**2\n",
    "                total += 1\n",
    "                if predicted_ratings[i,j] != actual_ratings.iloc[i,j]:\n",
    "                    incorrect += 1\n",
    "    error_rate = incorrect/total\n",
    "#     print(error_rate)\n",
    "\n",
    "    rmse = np.sqrt(sum_xi/total)\n",
    "    print('RMSE: ', rmse)\n",
    "    return rmse,actual_ratings,predicted_ratings"
   ]
  },
  {
   "cell_type": "code",
   "execution_count": 4,
   "metadata": {},
   "outputs": [
    {
     "name": "stdout",
     "output_type": "stream",
     "text": [
      "Number of Neighbors:  1\n",
      "RMSE:  1.8860753386127693\n",
      "Number of Neighbors:  5\n",
      "RMSE:  1.3656353566029271\n",
      "Number of Neighbors:  10\n",
      "RMSE:  1.2716401068026804\n",
      "Number of Neighbors:  15\n",
      "RMSE:  1.2355158339202539\n",
      "Number of Neighbors:  20\n",
      "RMSE:  1.2150190554383173\n",
      "Number of Neighbors:  25\n",
      "RMSE:  1.2015709200193563\n",
      "Number of Neighbors:  30\n",
      "RMSE:  1.1904720573630032\n",
      "Number of Neighbors:  35\n",
      "RMSE:  1.1839042023728854\n",
      "Number of Neighbors:  40\n",
      "RMSE:  1.1779448633917893\n",
      "Number of Neighbors:  45\n",
      "RMSE:  1.1724851699071859\n",
      "Number of Neighbors:  50\n",
      "RMSE:  1.1685234202827204\n",
      "Number of Neighbors:  55\n",
      "RMSE:  1.1651077942164259\n",
      "Number of Neighbors:  60\n",
      "RMSE:  1.1624174952254347\n",
      "Number of Neighbors:  65\n",
      "RMSE:  1.1611999923075766\n",
      "Number of Neighbors:  70\n",
      "RMSE:  1.1593059333942315\n",
      "Number of Neighbors:  75\n",
      "RMSE:  1.1577388293180966\n",
      "Number of Neighbors:  100\n",
      "RMSE:  1.1491164537268046\n",
      "Number of Neighbors:  125\n",
      "RMSE:  1.1441897041046076\n",
      "Number of Neighbors:  150\n",
      "RMSE:  1.1374264127246034\n",
      "Number of Neighbors:  175\n",
      "RMSE:  1.1338180902491672\n",
      "Number of Neighbors:  200\n",
      "RMSE:  1.1299646859774561\n",
      "Number of Neighbors:  225\n",
      "RMSE:  1.1267751568566629\n",
      "Number of Neighbors:  250\n",
      "RMSE:  1.1241877027927716\n",
      "Number of Neighbors:  275\n",
      "RMSE:  1.1214720578433024\n",
      "Number of Neighbors:  300\n",
      "RMSE:  1.1191394896559952\n"
     ]
    }
   ],
   "source": [
    "#Iterate through the k-nearest neighbors algorithm for each value of k.\n",
    "\n",
    "knn_array = np.array((1,5,10,15,20,25,30,35,40,45,50,55,60,65,70,75,100,125,150,175,200,225,250,275,300))\n",
    "rmse_array = np.zeros((knn_array.shape[0]))\n",
    "\n",
    "for idx,knn in enumerate(knn_array):\n",
    "    print('Number of Neighbors: ', knn)\n",
    "    rmse_array[idx],actual_ratings,predicted_ratings = test_model(knn, val, val_set)"
   ]
  },
  {
   "cell_type": "code",
   "execution_count": 5,
   "metadata": {},
   "outputs": [
    {
     "data": {
      "image/png": "[encoded data removed]",
      "text/plain": [
       "<Figure size 432x288 with 1 Axes>"
      ]
     },
     "metadata": {},
     "output_type": "display_data"
    }
   ],
   "source": [
    "#Plot how RMSE changes as k increases\n",
    "\n",
    "plt.plot(knn_array, rmse_array)\n",
    "plt.title('RMSE with KNN')\n",
    "plt.xlabel('k')\n",
    "plt.ylabel('RMSE')\n",
    "plt.show()"
   ]
  },
  {
   "cell_type": "code",
   "execution_count": 6,
   "metadata": {},
   "outputs": [
    {
     "name": "stdout",
     "output_type": "stream",
     "text": [
      "Optimal Number of Neighbors:  30\n",
      "RMSE:  1.1622413959681743\n"
     ]
    }
   ],
   "source": [
    "#Find the optimal value for k\n",
    "\n",
    "for idx in range(1,knn_array.shape[0]):\n",
    "    if (rmse_array[idx-1] - rmse_array[idx]) < 0.01:\n",
    "        optimal_knn = knn_array[idx-1]\n",
    "        break\n",
    "print('Optimal Number of Neighbors: ', optimal_knn)\n",
    "\n",
    "\n",
    "#Build the final model using the optimal k value and calculate the test set RMSE\n",
    "\n",
    "rmse,actual_ratings,predicted_ratings = test_model(optimal_knn, test, test_set)"
   ]
  },
  {
   "cell_type": "code",
   "execution_count": 7,
   "metadata": {},
   "outputs": [],
   "source": [
    "#Find the top 25 recommended movies for each user\n",
    "\n",
    "predicted_ratings = pd.DataFrame(data=predicted_ratings)\n",
    "predicted_ratings = predicted_ratings.T\n",
    "\n",
    "actual_ratings = pd.DataFrame(data=actual_ratings)\n",
    "actual_ratings = actual_ratings.T\n",
    "\n",
    "recommendations_indices = np.zeros(shape = (len(predicted_ratings.columns),25))\n",
    "\n",
    "for i in predicted_ratings:\n",
    "    top = predicted_ratings.nlargest(25, i)\n",
    "    recommendations = top[i]\n",
    "    recommendations_indices[i,:] = recommendations.index"
   ]
  },
  {
   "cell_type": "code",
   "execution_count": 8,
   "metadata": {},
   "outputs": [],
   "source": [
    "#Find the movies each user has previously rated as being a 3.5 or above\n",
    "\n",
    "top_movies_rated = actual_ratings.iloc[:,0][actual_ratings.iloc[:,0]>=3.5]\n",
    "# print(top_movies_rated)"
   ]
  },
  {
   "cell_type": "code",
   "execution_count": 9,
   "metadata": {},
   "outputs": [
    {
     "name": "stdout",
     "output_type": "stream",
     "text": [
      "Average Precision:  0.04653452846861725\n",
      "Average Recall:  0.11529336302426589\n",
      "Average F1 Score:  0.06524166249781657\n"
     ]
    }
   ],
   "source": [
    "#Calculate the average precision, recall, and F1 scores\n",
    "\n",
    "precision_matrix = np.zeros(shape=(len(actual_ratings.columns)))\n",
    "recall_matrix = np.zeros(shape=(len(actual_ratings.columns)))\n",
    "f1_matrix = np.zeros(shape=(len(actual_ratings.columns)))\n",
    "\n",
    "for idx,i in enumerate(actual_ratings):\n",
    "    top_movies_rated = actual_ratings.iloc[:,idx][actual_ratings.iloc[:,idx]>=3.5]\n",
    "    top_rated_indices = top_movies_rated.index\n",
    "    \n",
    "    tp = len(np.intersect1d(recommendations_indices[idx,:], top_rated_indices))\n",
    "    fp = len(recommendations_indices)-tp\n",
    "    fn = len(top_rated_indices)-tp\n",
    "\n",
    "    precision = tp / (tp + fp + 1e-10)\n",
    "    precision_matrix[idx] = precision\n",
    "    recall = tp / (tp + fn + 1e-10)\n",
    "    recall_matrix[idx] = recall\n",
    "    f1 = 2.0 * (precision * recall) / (precision + recall + 1e-10)   \n",
    "    f1_matrix[idx] = f1\n",
    "\n",
    "\n",
    "avg_precision = np.average(precision_matrix)\n",
    "avg_recall = np.average(recall_matrix)\n",
    "avg_f1 = np.average(f1_matrix)\n",
    "print('Average Precision: ', avg_precision)\n",
    "print('Average Recall: ', avg_recall)\n",
    "print('Average F1 Score: ', avg_f1)"
   ]
  }
 ],
 "metadata": {
  "kernelspec": {
   "display_name": "Python 3",
   "language": "python",
   "name": "python3"
  },
  "language_info": {
   "codemirror_mode": {
    "name": "ipython",
    "version": 3
   },
   "file_extension": ".py",
   "mimetype": "text/x-python",
   "name": "python",
   "nbconvert_exporter": "python",
   "pygments_lexer": "ipython3",
   "version": "3.6.7"
  }
 },
 "nbformat": 4,
 "nbformat_minor": 2
}
