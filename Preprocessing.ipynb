{
 "cells": [
  {
   "cell_type": "code",
   "execution_count": 1,
   "metadata": {
    "id": "MrKM65_GSV6j"
   },
   "outputs": [
    {
     "name": "stdout",
     "output_type": "stream",
     "text": [
      "The history saving thread hit an unexpected error (DatabaseError('database disk image is malformed',)).History will not be written to the database.\n"
     ]
    }
   ],
   "source": [
    "#only needed when unzipping the data file for the first time\n",
    "\n",
    "# import zipfile\n",
    "# with zipfile.ZipFile('/content/drive/My Drive/Colab Notebooks/ml-25m.zip', 'r') as zip_ref:\n",
    "#     zip_ref.extractall('/content/drive/My Drive/Colab Notebooks/')"
   ]
  },
  {
   "cell_type": "code",
   "execution_count": 1,
   "metadata": {
    "id": "xBwbWQFrSi-1"
   },
   "outputs": [
    {
     "name": "stdout",
     "output_type": "stream",
     "text": [
      "The history saving thread hit an unexpected error (DatabaseError('database disk image is malformed',)).History will not be written to the database.\n"
     ]
    }
   ],
   "source": [
    "import pandas as pd\n",
    "import numpy as np\n",
    "\n",
    "movies = pd.read_csv(\"ml-25m/movies.csv\") \n",
    "ratings = pd.read_csv(\"ml-25m/ratings.csv\") "
   ]
  },
  {
   "cell_type": "code",
   "execution_count": 2,
   "metadata": {
    "colab": {
     "base_uri": "https://localhost:8080/",
     "height": 202
    },
    "id": "nsCHU_2PUMAG",
    "outputId": "809ae13f-bb66-47e0-a45e-1228b7ad48e7"
   },
   "outputs": [
    {
     "data": {
      "text/html": [
       "<div>\n",
       "<style scoped>\n",
       "    .dataframe tbody tr th:only-of-type {\n",
       "        vertical-align: middle;\n",
       "    }\n",
       "\n",
       "    .dataframe tbody tr th {\n",
       "        vertical-align: top;\n",
       "    }\n",
       "\n",
       "    .dataframe thead th {\n",
       "        text-align: right;\n",
       "    }\n",
       "</style>\n",
       "<table border=\"1\" class=\"dataframe\">\n",
       "  <thead>\n",
       "    <tr style=\"text-align: right;\">\n",
       "      <th></th>\n",
       "      <th>movieId</th>\n",
       "      <th>title</th>\n",
       "      <th>genres</th>\n",
       "    </tr>\n",
       "  </thead>\n",
       "  <tbody>\n",
       "    <tr>\n",
       "      <th>0</th>\n",
       "      <td>1</td>\n",
       "      <td>Toy Story (1995)</td>\n",
       "      <td>Adventure|Animation|Children|Comedy|Fantasy</td>\n",
       "    </tr>\n",
       "    <tr>\n",
       "      <th>1</th>\n",
       "      <td>2</td>\n",
       "      <td>Jumanji (1995)</td>\n",
       "      <td>Adventure|Children|Fantasy</td>\n",
       "    </tr>\n",
       "    <tr>\n",
       "      <th>2</th>\n",
       "      <td>3</td>\n",
       "      <td>Grumpier Old Men (1995)</td>\n",
       "      <td>Comedy|Romance</td>\n",
       "    </tr>\n",
       "    <tr>\n",
       "      <th>3</th>\n",
       "      <td>4</td>\n",
       "      <td>Waiting to Exhale (1995)</td>\n",
       "      <td>Comedy|Drama|Romance</td>\n",
       "    </tr>\n",
       "    <tr>\n",
       "      <th>4</th>\n",
       "      <td>5</td>\n",
       "      <td>Father of the Bride Part II (1995)</td>\n",
       "      <td>Comedy</td>\n",
       "    </tr>\n",
       "  </tbody>\n",
       "</table>\n",
       "</div>"
      ],
      "text/plain": [
       "   movieId                               title  \\\n",
       "0        1                    Toy Story (1995)   \n",
       "1        2                      Jumanji (1995)   \n",
       "2        3             Grumpier Old Men (1995)   \n",
       "3        4            Waiting to Exhale (1995)   \n",
       "4        5  Father of the Bride Part II (1995)   \n",
       "\n",
       "                                        genres  \n",
       "0  Adventure|Animation|Children|Comedy|Fantasy  \n",
       "1                   Adventure|Children|Fantasy  \n",
       "2                               Comedy|Romance  \n",
       "3                         Comedy|Drama|Romance  \n",
       "4                                       Comedy  "
      ]
     },
     "execution_count": 2,
     "metadata": {},
     "output_type": "execute_result"
    }
   ],
   "source": [
    "#View movies data\n",
    "\n",
    "movies.head()"
   ]
  },
  {
   "cell_type": "code",
   "execution_count": 3,
   "metadata": {
    "colab": {
     "base_uri": "https://localhost:8080/",
     "height": 202
    },
    "id": "Udk9vAJGUT_B",
    "outputId": "4cf4756b-9d36-42cd-e84f-e09df54d0763"
   },
   "outputs": [
    {
     "data": {
      "text/html": [
       "<div>\n",
       "<style scoped>\n",
       "    .dataframe tbody tr th:only-of-type {\n",
       "        vertical-align: middle;\n",
       "    }\n",
       "\n",
       "    .dataframe tbody tr th {\n",
       "        vertical-align: top;\n",
       "    }\n",
       "\n",
       "    .dataframe thead th {\n",
       "        text-align: right;\n",
       "    }\n",
       "</style>\n",
       "<table border=\"1\" class=\"dataframe\">\n",
       "  <thead>\n",
       "    <tr style=\"text-align: right;\">\n",
       "      <th></th>\n",
       "      <th>userId</th>\n",
       "      <th>movieId</th>\n",
       "      <th>rating</th>\n",
       "      <th>timestamp</th>\n",
       "    </tr>\n",
       "  </thead>\n",
       "  <tbody>\n",
       "    <tr>\n",
       "      <th>0</th>\n",
       "      <td>1</td>\n",
       "      <td>296</td>\n",
       "      <td>5.0</td>\n",
       "      <td>1147880044</td>\n",
       "    </tr>\n",
       "    <tr>\n",
       "      <th>1</th>\n",
       "      <td>1</td>\n",
       "      <td>306</td>\n",
       "      <td>3.5</td>\n",
       "      <td>1147868817</td>\n",
       "    </tr>\n",
       "    <tr>\n",
       "      <th>2</th>\n",
       "      <td>1</td>\n",
       "      <td>307</td>\n",
       "      <td>5.0</td>\n",
       "      <td>1147868828</td>\n",
       "    </tr>\n",
       "    <tr>\n",
       "      <th>3</th>\n",
       "      <td>1</td>\n",
       "      <td>665</td>\n",
       "      <td>5.0</td>\n",
       "      <td>1147878820</td>\n",
       "    </tr>\n",
       "    <tr>\n",
       "      <th>4</th>\n",
       "      <td>1</td>\n",
       "      <td>899</td>\n",
       "      <td>3.5</td>\n",
       "      <td>1147868510</td>\n",
       "    </tr>\n",
       "  </tbody>\n",
       "</table>\n",
       "</div>"
      ],
      "text/plain": [
       "   userId  movieId  rating   timestamp\n",
       "0       1      296     5.0  1147880044\n",
       "1       1      306     3.5  1147868817\n",
       "2       1      307     5.0  1147868828\n",
       "3       1      665     5.0  1147878820\n",
       "4       1      899     3.5  1147868510"
      ]
     },
     "execution_count": 3,
     "metadata": {},
     "output_type": "execute_result"
    }
   ],
   "source": [
    "#View ratings data\n",
    "\n",
    "ratings.head()"
   ]
  },
  {
   "cell_type": "code",
   "execution_count": 4,
   "metadata": {
    "id": "WuxvJc0vTtNA"
   },
   "outputs": [],
   "source": [
    "#Filter to movies with at least 14500 ratings\n",
    "\n",
    "data = ratings.groupby('movieId').filter(lambda x: len(x) >= 14500)"
   ]
  },
  {
   "cell_type": "code",
   "execution_count": 15,
   "metadata": {
    "colab": {
     "base_uri": "https://localhost:8080/"
    },
    "id": "uJzZ4KPhUtzh",
    "outputId": "71daffb3-d7ec-46e4-9f31-b8a7aae394fa"
   },
   "outputs": [
    {
     "name": "stdout",
     "output_type": "stream",
     "text": [
      "(25000095, 4)\n",
      "(8843222, 4)\n"
     ]
    }
   ],
   "source": [
    "print(ratings.shape)\n",
    "print(data.shape)"
   ]
  },
  {
   "cell_type": "code",
   "execution_count": 16,
   "metadata": {
    "colab": {
     "base_uri": "https://localhost:8080/"
    },
    "id": "nQTVMx7mrjBP",
    "outputId": "94c6a5a6-f18a-409d-dc1b-6ed86762db06"
   },
   "outputs": [
    {
     "name": "stdout",
     "output_type": "stream",
     "text": [
      "(407450, 4)\n"
     ]
    }
   ],
   "source": [
    "#Filter to users with at least 250 ratings\n",
    "\n",
    "data = data.groupby('userId').filter(lambda x: len(x) >= 250)\n",
    "print(data.shape)"
   ]
  },
  {
   "cell_type": "code",
   "execution_count": 17,
   "metadata": {
    "colab": {
     "base_uri": "https://localhost:8080/"
    },
    "id": "qd7MupLaV4Yp",
    "outputId": "fb292936-9a7a-4e02-c667-99d596d97d0d"
   },
   "outputs": [
    {
     "name": "stdout",
     "output_type": "stream",
     "text": [
      "Number of Distinct Movies: 335\n",
      "Number of Distinct Users: 1482\n",
      "162516\n",
      "134130\n"
     ]
    }
   ],
   "source": [
    "#Find number of distinct movies and users after subsetting the dataset\n",
    "\n",
    "print(\"Number of Distinct Movies: \" + str(len(set(data['movieId']))))\n",
    "print(\"Number of Distinct Users: \" + str(len(set(data['userId']))))\n",
    "print(max(data['userId']))\n",
    "print(max(data['movieId']))"
   ]
  },
  {
   "cell_type": "code",
   "execution_count": 6,
   "metadata": {
    "id": "tuitYp-L5220"
   },
   "outputs": [],
   "source": [
    "#Relabel user and movie IDs so they start at 0 and are still unique\n",
    "\n",
    "userID_list = data['userId'].unique()\n",
    "movieID_list = data['movieId'].unique()\n",
    "\n",
    "new_userId = np.zeros((len(data),1))\n",
    "new_movieId = np.zeros((len(data),1))\n",
    "for i in range(len(data)):\n",
    "  new_userId[i,] = np.where(userID_list == data['userId'].iloc[i])\n",
    "  new_movieId[i,] = np.where(movieID_list == data['movieId'].iloc[i])\n",
    "\n",
    "data['userId2'] = new_userId\n",
    "data['movieId2'] = new_movieId\n",
    "\n",
    "#Save this relabeled dataset for use in models\n",
    "data.to_csv('new_movies.csv') "
   ]
  },
  {
   "cell_type": "code",
   "execution_count": 29,
   "metadata": {
    "id": "akqYF3ySWup7"
   },
   "outputs": [],
   "source": [
    "#Create h5py files where I will store user similarity scores (since numpy arrays can't hold all the data)\n",
    "\n",
    "#NOTE: This section will not run properly if the cache files have already been created in your directory.  \n",
    "#If you have already created the cache files, you must delete them before running this cell.\n",
    "\n",
    "import h5py\n",
    "\n",
    "num_users = len(set(data['userId2']))\n",
    "num_movies = len(set(data['movieId2']))\n",
    "\n",
    "hdf5_store = h5py.File(\"./cache.hdf5\", \"a\")\n",
    "users = hdf5_store.create_dataset(\"users\", (num_users,num_movies), compression=\"gzip\")\n",
    "hdf5_store2 = h5py.File(\"./cache.hdf52\", \"a\")\n",
    "users_similarity = hdf5_store2.create_dataset(\"users_similarity\", (num_users,num_users), compression=\"gzip\")"
   ]
  },
  {
   "cell_type": "code",
   "execution_count": 30,
   "metadata": {
    "colab": {
     "base_uri": "https://localhost:8080/",
     "height": 35
    },
    "id": "VFYk9RRCYsTJ",
    "outputId": "5ab7cf87-01a7-419f-ea89-a269204a4729"
   },
   "outputs": [
    {
     "name": "stdout",
     "output_type": "stream",
     "text": [
      "<HDF5 dataset \"users\": shape (1482, 335), type \"<f4\">\n"
     ]
    }
   ],
   "source": [
    "#Populate users h5py file (giant array of ratings for each user and movie)\n",
    "\n",
    "for row in range(len(data)):\n",
    "  userID = data.iloc[row]['userId2']\n",
    "  movieID = data.iloc[row]['movieId2']\n",
    "  rating_num = data.iloc[row]['rating']\n",
    "  users[int(userID),int(movieID)] = rating_num\n",
    "\n",
    "print(users)"
   ]
  },
  {
   "cell_type": "code",
   "execution_count": 32,
   "metadata": {
    "id": "UyyCrXCSkffA"
   },
   "outputs": [],
   "source": [
    "#Save users h5py file as csv for future use\n",
    "\n",
    "np.savetxt(\"users.csv\", users, delimiter=\",\")"
   ]
  },
  {
   "cell_type": "code",
   "execution_count": 33,
   "metadata": {
    "id": "pLZMP9GqXPni"
   },
   "outputs": [
    {
     "name": "stdout",
     "output_type": "stream",
     "text": [
      "<HDF5 dataset \"users_similarity\": shape (1482, 1482), type \"<f4\">\n"
     ]
    }
   ],
   "source": [
    "#Populate users_similarity h5py file (giant array of similarity scores between users)\n",
    "\n",
    "for i in range(len(set(data['userId2']))):\n",
    "  for j in range(len(set(data['userId2']))):\n",
    "    denominator = np.linalg.norm(users[i,:])*np.linalg.norm(users[j,:])\n",
    "    if (denominator != 0):\n",
    "      users_similarity[i,j] = np.sum((users[i,:])*(users[j,:])) / denominator\n",
    "    else:\n",
    "      users_similarity[i,j] = 0\n",
    "\n",
    "print(users_similarity)"
   ]
  },
  {
   "cell_type": "code",
   "execution_count": 34,
   "metadata": {
    "id": "1jyOVBK0kmLE"
   },
   "outputs": [],
   "source": [
    "#Save users_similarity h5py file as csv for future use\n",
    "\n",
    "np.savetxt(\"users_similarity.csv\", users_similarity, delimiter=\",\")"
   ]
  }
 ],
 "metadata": {
  "colab": {
   "name": "CollaborativeFiltering-MemoryBased.ipynb",
   "provenance": []
  },
  "kernelspec": {
   "display_name": "Python 3",
   "language": "python",
   "name": "python3"
  },
  "language_info": {
   "codemirror_mode": {
    "name": "ipython",
    "version": 3
   },
   "file_extension": ".py",
   "mimetype": "text/x-python",
   "name": "python",
   "nbconvert_exporter": "python",
   "pygments_lexer": "ipython3",
   "version": "3.6.7"
  }
 },
 "nbformat": 4,
 "nbformat_minor": 1
}
