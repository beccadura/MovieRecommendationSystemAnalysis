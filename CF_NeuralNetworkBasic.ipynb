{
 "cells": [
  {
   "cell_type": "code",
   "execution_count": 1,
   "metadata": {},
   "outputs": [
    {
     "name": "stdout",
     "output_type": "stream",
     "text": [
      "The history saving thread hit an unexpected error (DatabaseError('database disk image is malformed',)).History will not be written to the database.\n"
     ]
    },
    {
     "name": "stderr",
     "output_type": "stream",
     "text": [
      "/usr/local/lib/python3.6/dist-packages/tensorflow/python/framework/dtypes.py:523: FutureWarning: Passing (type, 1) or '1type' as a synonym of type is deprecated; in a future version of numpy, it will be understood as (type, (1,)) / '(1,)type'.\n",
      "  _np_qint8 = np.dtype([(\"qint8\", np.int8, 1)])\n",
      "/usr/local/lib/python3.6/dist-packages/tensorflow/python/framework/dtypes.py:524: FutureWarning: Passing (type, 1) or '1type' as a synonym of type is deprecated; in a future version of numpy, it will be understood as (type, (1,)) / '(1,)type'.\n",
      "  _np_quint8 = np.dtype([(\"quint8\", np.uint8, 1)])\n",
      "/usr/local/lib/python3.6/dist-packages/tensorflow/python/framework/dtypes.py:525: FutureWarning: Passing (type, 1) or '1type' as a synonym of type is deprecated; in a future version of numpy, it will be understood as (type, (1,)) / '(1,)type'.\n",
      "  _np_qint16 = np.dtype([(\"qint16\", np.int16, 1)])\n",
      "/usr/local/lib/python3.6/dist-packages/tensorflow/python/framework/dtypes.py:526: FutureWarning: Passing (type, 1) or '1type' as a synonym of type is deprecated; in a future version of numpy, it will be understood as (type, (1,)) / '(1,)type'.\n",
      "  _np_quint16 = np.dtype([(\"quint16\", np.uint16, 1)])\n",
      "/usr/local/lib/python3.6/dist-packages/tensorflow/python/framework/dtypes.py:527: FutureWarning: Passing (type, 1) or '1type' as a synonym of type is deprecated; in a future version of numpy, it will be understood as (type, (1,)) / '(1,)type'.\n",
      "  _np_qint32 = np.dtype([(\"qint32\", np.int32, 1)])\n",
      "/usr/local/lib/python3.6/dist-packages/tensorflow/python/framework/dtypes.py:532: FutureWarning: Passing (type, 1) or '1type' as a synonym of type is deprecated; in a future version of numpy, it will be understood as (type, (1,)) / '(1,)type'.\n",
      "  np_resource = np.dtype([(\"resource\", np.ubyte, 1)])\n",
      "/usr/local/lib/python3.6/dist-packages/tensorboard/compat/tensorflow_stub/dtypes.py:541: FutureWarning: Passing (type, 1) or '1type' as a synonym of type is deprecated; in a future version of numpy, it will be understood as (type, (1,)) / '(1,)type'.\n",
      "  _np_qint8 = np.dtype([(\"qint8\", np.int8, 1)])\n",
      "/usr/local/lib/python3.6/dist-packages/tensorboard/compat/tensorflow_stub/dtypes.py:542: FutureWarning: Passing (type, 1) or '1type' as a synonym of type is deprecated; in a future version of numpy, it will be understood as (type, (1,)) / '(1,)type'.\n",
      "  _np_quint8 = np.dtype([(\"quint8\", np.uint8, 1)])\n",
      "/usr/local/lib/python3.6/dist-packages/tensorboard/compat/tensorflow_stub/dtypes.py:543: FutureWarning: Passing (type, 1) or '1type' as a synonym of type is deprecated; in a future version of numpy, it will be understood as (type, (1,)) / '(1,)type'.\n",
      "  _np_qint16 = np.dtype([(\"qint16\", np.int16, 1)])\n",
      "/usr/local/lib/python3.6/dist-packages/tensorboard/compat/tensorflow_stub/dtypes.py:544: FutureWarning: Passing (type, 1) or '1type' as a synonym of type is deprecated; in a future version of numpy, it will be understood as (type, (1,)) / '(1,)type'.\n",
      "  _np_quint16 = np.dtype([(\"quint16\", np.uint16, 1)])\n",
      "/usr/local/lib/python3.6/dist-packages/tensorboard/compat/tensorflow_stub/dtypes.py:545: FutureWarning: Passing (type, 1) or '1type' as a synonym of type is deprecated; in a future version of numpy, it will be understood as (type, (1,)) / '(1,)type'.\n",
      "  _np_qint32 = np.dtype([(\"qint32\", np.int32, 1)])\n",
      "/usr/local/lib/python3.6/dist-packages/tensorboard/compat/tensorflow_stub/dtypes.py:550: FutureWarning: Passing (type, 1) or '1type' as a synonym of type is deprecated; in a future version of numpy, it will be understood as (type, (1,)) / '(1,)type'.\n",
      "  np_resource = np.dtype([(\"resource\", np.ubyte, 1)])\n"
     ]
    }
   ],
   "source": [
    "import numpy as np\n",
    "import pandas as pd\n",
    "from sklearn.model_selection import train_test_split\n",
    "import tensorflow as tf\n",
    "import matplotlib.pyplot as plt\n",
    " \n",
    "ratings = pd.read_csv(\"new_movies.csv\") "
   ]
  },
  {
   "cell_type": "code",
   "execution_count": 2,
   "metadata": {},
   "outputs": [
    {
     "data": {
      "text/plain": [
       "((325960, 3), (81490, 3), (325960,), (81490,))"
      ]
     },
     "execution_count": 2,
     "metadata": {},
     "output_type": "execute_result"
    }
   ],
   "source": [
    "#Get the training, validation, and test sets\n",
    "\n",
    "X = ratings[['userId2', 'movieId2','rating']].values\n",
    "y = ratings['rating'].values\n",
    "X_train, X_test, y_train, y_test = train_test_split(X, y, test_size=0.2)\n",
    "# X_train.shape, X_test.shape, y_train.shape, y_test.shape"
   ]
  },
  {
   "cell_type": "code",
   "execution_count": 3,
   "metadata": {},
   "outputs": [
    {
     "data": {
      "text/plain": [
       "((260768, 3), (65192, 3), (260768,), (65192,))"
      ]
     },
     "execution_count": 3,
     "metadata": {},
     "output_type": "execute_result"
    }
   ],
   "source": [
    "X_train_train, X_val, y_train_train, y_val = train_test_split(X_train, y_train, test_size=0.2)\n",
    "# X_train_train.shape, X_val.shape, y_train_train.shape, y_val.shape"
   ]
  },
  {
   "cell_type": "code",
   "execution_count": 4,
   "metadata": {},
   "outputs": [],
   "source": [
    "X_train_array = np.array((X_train[:, 0], X_train[:, 1]))\n",
    "X_test_array = np.array((X_test[:, 0], X_test[:, 1]))"
   ]
  },
  {
   "cell_type": "code",
   "execution_count": 5,
   "metadata": {},
   "outputs": [],
   "source": [
    "X_train_train_array = np.array((X_train_train[:, 0], X_train_train[:, 1]))\n",
    "X_val_array = np.array((X_val[:, 0], X_val[:, 1]))"
   ]
  },
  {
   "cell_type": "code",
   "execution_count": 6,
   "metadata": {},
   "outputs": [],
   "source": [
    "X_train_array = X_train_array.T\n",
    "X_test_array = X_test_array.T\n",
    "\n",
    "X_train_train_array = X_train_train_array.T\n",
    "X_val_array = X_val_array.T"
   ]
  },
  {
   "cell_type": "code",
   "execution_count": 7,
   "metadata": {},
   "outputs": [],
   "source": [
    "#Set up arrays for each learning rate to be tested and its RMSE\n",
    "\n",
    "learning_rates = np.array((1,1e-1,1e-2,1e-3,1e-4,1e-5))\n",
    "rmse_array = np.zeros((learning_rates.shape))"
   ]
  },
  {
   "cell_type": "code",
   "execution_count": 8,
   "metadata": {},
   "outputs": [],
   "source": [
    "#Create the tensorflow model to recommend movies\n",
    "\n",
    "def MovieRecommender(lr_i):\n",
    "    model = tf.keras.Sequential()\n",
    "    model.add(tf.keras.layers.InputLayer(input_shape = (2,)))\n",
    "    model.add(tf.keras.layers.Dense(units=128, use_bias=True))\n",
    "    model.add(tf.keras.layers.Activation('relu'))\n",
    "    model.add(tf.keras.layers.Dense(units=10))\n",
    "    model.add(tf.keras.layers.Activation('relu'))\n",
    "    model.add(tf.keras.layers.Dense(units=1))\n",
    "    model.add(tf.keras.layers.Activation('relu'))\n",
    "\n",
    "    model.compile(loss='mean_squared_error', optimizer=tf.keras.optimizers.Adam(lr=lr_i), metrics=['mean_squared_error'])\n",
    "    \n",
    "    return model"
   ]
  },
  {
   "cell_type": "code",
   "execution_count": 9,
   "metadata": {},
   "outputs": [
    {
     "name": "stdout",
     "output_type": "stream",
     "text": [
      "Learning Rate:  1.0  Validation RMSE:  13.982931\n",
      "Learning Rate:  0.1  Validation RMSE:  13.982931\n",
      "Learning Rate:  0.01  Validation RMSE:  0.92383957\n",
      "Learning Rate:  0.001  Validation RMSE:  13.982931\n",
      "Learning Rate:  0.0001  Validation RMSE:  0.9356595\n",
      "Learning Rate:  1e-05  Validation RMSE:  0.91108024\n"
     ]
    }
   ],
   "source": [
    "#Iterate through each learning rate\n",
    "\n",
    "for idx,i in enumerate(learning_rates):  \n",
    "    model = MovieRecommender(i)\n",
    "    es = tf.keras.callbacks.EarlyStopping(monitor='loss', mode='min', min_delta=0.01, patience=2)\n",
    "    history = model.fit(X_train_train_array, y_train_train, epochs=1000, batch_size=32, callbacks=[es],verbose=0)\n",
    "    rmse = model.evaluate(X_val_array, y_val,verbose=0)\n",
    "    rmse = rmse[1]\n",
    "    print('Learning Rate: ', i, ' Validation RMSE: ', rmse)\n",
    "    rmse_array[idx] = rmse"
   ]
  },
  {
   "cell_type": "code",
   "execution_count": 10,
   "metadata": {},
   "outputs": [
    {
     "data": {
      "image/png": "[encoded data removed]",
      "text/plain": [
       "<Figure size 432x288 with 1 Axes>"
      ]
     },
     "metadata": {},
     "output_type": "display_data"
    }
   ],
   "source": [
    "#Plot how RMSE changes with learning rate\n",
    "\n",
    "plt.plot(learning_rates, rmse_array)\n",
    "plt.title('RMSE with Basic Neural Network')\n",
    "plt.xlabel('Learning Rate')\n",
    "plt.ylabel('RMSE')\n",
    "plt.show()"
   ]
  },
  {
   "cell_type": "code",
   "execution_count": 11,
   "metadata": {},
   "outputs": [
    {
     "name": "stdout",
     "output_type": "stream",
     "text": [
      "Optimal Learning Rate:  1e-05\n",
      "Test RMSE:  13.957626\n"
     ]
    }
   ],
   "source": [
    "#Find the optimal learning rate (minimizes RMSE)\n",
    "\n",
    "optimal_idx = np.argmin(rmse_array)\n",
    "optimal_lr = learning_rates[optimal_idx]\n",
    "\n",
    "print('Optimal Learning Rate: ', optimal_lr)\n",
    "\n",
    "\n",
    "#Run the model using the test set data and optimal learning rate to get the RMSE on the test set\n",
    "\n",
    "model = MovieRecommender(optimal_lr)\n",
    "es = tf.keras.callbacks.EarlyStopping(monitor='loss', mode='min', min_delta=0.01, patience=2)\n",
    "history = model.fit(X_train_array, y_train, epochs=1000, batch_size=32, callbacks=[es],verbose=0)\n",
    "rmse = model.evaluate(X_test_array, y_test,verbose=0)\n",
    "\n",
    "print('Test RMSE: ', rmse[1])"
   ]
  },
  {
   "cell_type": "code",
   "execution_count": 12,
   "metadata": {},
   "outputs": [],
   "source": [
    "#Make the predictions for the test set data\n",
    "\n",
    "predictions = model.predict(X_test_array, verbose=0)"
   ]
  },
  {
   "cell_type": "code",
   "execution_count": 13,
   "metadata": {},
   "outputs": [
    {
     "name": "stdout",
     "output_type": "stream",
     "text": [
      "Average Precision:  0.01137673676561305\n",
      "Average Recall:  0.4601128758673247\n",
      "Average F1 Score:  0.02215893736686533\n"
     ]
    }
   ],
   "source": [
    "#Calculate average precision, recall, and F1 scores\n",
    "\n",
    "X_test_df = pd.DataFrame(X_test)\n",
    "\n",
    "X_predicted = pd.DataFrame(X_test)\n",
    "\n",
    "X_predicted[2] = predictions\n",
    "\n",
    "userID_list = X_test_df[0].unique()\n",
    "\n",
    "recommendations_indices = np.zeros(shape = (len(userID_list),25))\n",
    "\n",
    "for idx,i in enumerate(userID_list):\n",
    "    pred_df = X_predicted[X_predicted[0]==i]\n",
    "    top = pred_df.nlargest(25, 2)\n",
    "    recommendations = top[1].values\n",
    "    recommendations_indices[idx,:] = recommendations\n",
    "\n",
    "    \n",
    "precision_matrix = np.zeros(shape=(len(userID_list)))\n",
    "recall_matrix = np.zeros(shape=(len(userID_list)))\n",
    "f1_matrix = np.zeros(shape=(len(userID_list)))\n",
    "\n",
    "for idx,i in enumerate(userID_list):\n",
    "    ratings_df = X_test_df[X_test_df[0]==i]\n",
    "    top_movies_rated = ratings_df[ratings_df[2]>=3.5]\n",
    "    top_rated_indices = top_movies_rated[1].values\n",
    "    \n",
    "    tp = len(np.intersect1d(recommendations_indices[idx,:], top_rated_indices))\n",
    "    fp = len(recommendations_indices)-tp\n",
    "    fn = len(top_rated_indices)-tp\n",
    "\n",
    "    precision = tp / (tp + fp + 1e-10)\n",
    "    precision_matrix[idx] = precision\n",
    "    recall = tp / (tp + fn + 1e-10)\n",
    "    recall_matrix[idx] = recall\n",
    "    f1 = 2.0 * (precision * recall) / (precision + recall + 1e-10)  \n",
    "    f1_matrix[idx] = f1\n",
    "\n",
    "\n",
    "avg_precision = np.average(precision_matrix)\n",
    "avg_recall = np.average(recall_matrix)\n",
    "avg_f1 = np.average(f1_matrix)\n",
    "print('Average Precision: ', avg_precision)\n",
    "print('Average Recall: ', avg_recall)\n",
    "print('Average F1 Score: ', avg_f1)"
   ]
  }
 ],
 "metadata": {
  "kernelspec": {
   "display_name": "Python 3",
   "language": "python",
   "name": "python3"
  },
  "language_info": {
   "codemirror_mode": {
    "name": "ipython",
    "version": 3
   },
   "file_extension": ".py",
   "mimetype": "text/x-python",
   "name": "python",
   "nbconvert_exporter": "python",
   "pygments_lexer": "ipython3",
   "version": "3.6.7"
  }
 },
 "nbformat": 4,
 "nbformat_minor": 2
}
