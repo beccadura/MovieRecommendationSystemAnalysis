{
 "cells": [
  {
   "cell_type": "code",
   "execution_count": 1,
   "metadata": {},
   "outputs": [
    {
     "name": "stdout",
     "output_type": "stream",
     "text": [
      "The history saving thread hit an unexpected error (DatabaseError('database disk image is malformed',)).History will not be written to the database.\n"
     ]
    }
   ],
   "source": [
    "import pandas as pd\n",
    "from sklearn.feature_extraction.text import TfidfVectorizer\n",
    "import numpy as np\n",
    "\n",
    "\n",
    "movies = pd.read_csv(\"ml-25m/movies.csv\") \n",
    "ratings = pd.read_csv(\"ml-25m/ratings.csv\") "
   ]
  },
  {
   "cell_type": "code",
   "execution_count": 2,
   "metadata": {},
   "outputs": [],
   "source": [
    "#Filter data to include movies with at least 14500 ratings and users with at least 250 ratings\n",
    "\n",
    "data = ratings.groupby('movieId').filter(lambda x: len(x) >= 14500)\n",
    "data = data.groupby('userId').filter(lambda x: len(x) >= 250)"
   ]
  },
  {
   "cell_type": "code",
   "execution_count": 3,
   "metadata": {},
   "outputs": [],
   "source": [
    "#Filter movies dataset to only include movies in the filtered ratings dataset\n",
    "\n",
    "movies_subset = movies[movies.movieId.isin(data['movieId'])]"
   ]
  },
  {
   "cell_type": "code",
   "execution_count": 4,
   "metadata": {},
   "outputs": [
    {
     "name": "stderr",
     "output_type": "stream",
     "text": [
      "/usr/lib/python3/dist-packages/IPython/core/interactiveshell.py:2718: DtypeWarning: Columns (10) have mixed types.Specify dtype option on import or set low_memory=False.\n",
      "  interactivity=interactivity, compiler=compiler, result=result)\n"
     ]
    }
   ],
   "source": [
    "#Import the movie metadata\n",
    "\n",
    "metadata = pd.read_csv(\"movies_metadata.csv\") "
   ]
  },
  {
   "cell_type": "code",
   "execution_count": 5,
   "metadata": {},
   "outputs": [
    {
     "name": "stderr",
     "output_type": "stream",
     "text": [
      "/usr/lib/python3/dist-packages/ipykernel_launcher.py:4: SettingWithCopyWarning: \n",
      "A value is trying to be set on a copy of a slice from a DataFrame.\n",
      "Try using .loc[row_indexer,col_indexer] = value instead\n",
      "\n",
      "See the caveats in the documentation: https://pandas.pydata.org/pandas-docs/stable/user_guide/indexing.html#returning-a-view-versus-a-copy\n",
      "  after removing the cwd from sys.path.\n"
     ]
    }
   ],
   "source": [
    "#In the movies dataset, the title column appended the year onto the movies, so I removed the year from the title in this\n",
    "#column so it matched the titles in the movie metadata file\n",
    "\n",
    "movies_subset['title2'] = [x[:-7] for x in movies_subset['title']]"
   ]
  },
  {
   "cell_type": "code",
   "execution_count": 6,
   "metadata": {},
   "outputs": [],
   "source": [
    "#Metadata file had a few duplicate rows (i.e. different movie summaries for the same movie), so I only kept one row for \n",
    "#each movie\n",
    "\n",
    "metadata = metadata.drop_duplicates(subset='title', keep='first')"
   ]
  },
  {
   "cell_type": "code",
   "execution_count": 7,
   "metadata": {},
   "outputs": [],
   "source": [
    "#Merge the metadata to the movies dataset\n",
    "\n",
    "metadata2 = pd.merge(how=\"left\", left=movies_subset, right=metadata, left_on='title2', right_on='title')"
   ]
  },
  {
   "cell_type": "code",
   "execution_count": 8,
   "metadata": {},
   "outputs": [],
   "source": [
    "# print(metadata2.info())"
   ]
  },
  {
   "cell_type": "code",
   "execution_count": 9,
   "metadata": {},
   "outputs": [],
   "source": [
    "#Used TfidfVectorizer to calculate TF-IDF score vectors for each movie (could use unigrams or bigrams) and to remove stopwords\n",
    "\n",
    "metadata2['overview'] = metadata2['overview'].fillna('')\n",
    "\n",
    "tf = TfidfVectorizer(analyzer='word', ngram_range=(1, 2), min_df=0, stop_words='english')\n",
    "tfidf_matrix = tf.fit_transform(metadata2['overview'])\n",
    "\n",
    "\n",
    "#Calculated similarity scores between each movie combination\n",
    "\n",
    "cosine_sim = np.zeros((tfidf_matrix.shape[0],tfidf_matrix.shape[0]))\n",
    "\n",
    "for i in range(tfidf_matrix.shape[0]):\n",
    "  for j in range(tfidf_matrix.shape[0]):\n",
    "    denominator = np.linalg.norm(tfidf_matrix[i,:].toarray())*np.linalg.norm(tfidf_matrix[j,:].toarray())\n",
    "    if (denominator != 0):\n",
    "      cosine_sim[i,j] = np.sum((tfidf_matrix[i,:].toarray())*(tfidf_matrix[j,:].toarray())) / denominator\n",
    "    else:\n",
    "      cosine_sim[i,j] = 0"
   ]
  },
  {
   "cell_type": "code",
   "execution_count": 10,
   "metadata": {},
   "outputs": [],
   "source": [
    "#Get titles and indices to recommend the movies with the highest scores\n",
    "\n",
    "metadata3 = metadata2.reset_index()\n",
    "titles = metadata2['title2']\n",
    "indices = pd.Series(metadata3.index, index=metadata3['title2'])"
   ]
  },
  {
   "cell_type": "code",
   "execution_count": 11,
   "metadata": {},
   "outputs": [],
   "source": [
    "#Function to get a list of the order of recommended movies that are similar to a specific movie entered by the user\n",
    "\n",
    "def get_recommendations(title):\n",
    "    idx = indices[title]\n",
    "    sim_scores = list(enumerate(cosine_sim[idx]))\n",
    "    sim_scores = sorted(sim_scores, key=lambda x: x[1], reverse=True)\n",
    "    sim_scores = sim_scores[1:101]\n",
    "    movie_indices = [i[0] for i in sim_scores]\n",
    "    return titles.iloc[movie_indices]"
   ]
  },
  {
   "cell_type": "code",
   "execution_count": 12,
   "metadata": {},
   "outputs": [
    {
     "data": {
      "text/plain": [
       "228                                          Toy Story 2\n",
       "82                                          Pretty Woman\n",
       "255                                       Monsters, Inc.\n",
       "88                                         Trainspotting\n",
       "87     Dr. Strangelove or: How I Learned to Stop Worr...\n",
       "329                                     Django Unchained\n",
       "11                                                  Babe\n",
       "312                                                 Juno\n",
       "212                                         American Pie\n",
       "19                                            Braveheart\n",
       "270                                  Catch Me If You Can\n",
       "243                                     Charlie's Angels\n",
       "102                                         Mary Poppins\n",
       "58                                           Cliffhanger\n",
       "123                                         12 Angry Men\n",
       "160                                            Liar Liar\n",
       "291                                             I, Robot\n",
       "233                                        High Fidelity\n",
       "164                                              Con Air\n",
       "187                           Back to the Future Part II\n",
       "309                                                  300\n",
       "157                                        Jerry Maguire\n",
       "81                                  Beauty and the Beast\n",
       "1                                                Jumanji\n",
       "86                                               Twister\n",
       "Name: title2, dtype: object"
      ]
     },
     "execution_count": 12,
     "metadata": {},
     "output_type": "execute_result"
    }
   ],
   "source": [
    "#Example of the output from the recommender\n",
    "\n",
    "get_recommendations('Toy Story').head(25)"
   ]
  },
  {
   "cell_type": "code",
   "execution_count": 13,
   "metadata": {},
   "outputs": [],
   "source": [
    "#Read in the ratings for each user and movie\n",
    "\n",
    "users = pd.read_csv(\"users.csv\", header = None) "
   ]
  },
  {
   "cell_type": "code",
   "execution_count": 14,
   "metadata": {},
   "outputs": [],
   "source": [
    "#Flip the dataset\n",
    "\n",
    "users = users.T"
   ]
  },
  {
   "cell_type": "code",
   "execution_count": 15,
   "metadata": {},
   "outputs": [],
   "source": [
    "#Find the top 25 recommended movies for a user by using one of the user's highest rated movies in the recommender above\n",
    "\n",
    "recommendations_indices = np.zeros(shape = (len(users.columns),25))\n",
    "\n",
    "for i in users:\n",
    "    top = users.nlargest(1, i)\n",
    "    fav_movie = metadata2.iloc[top[i].index]['title2']\n",
    "    recommendations = get_recommendations(fav_movie.values[0]).head(25)\n",
    "    recommendations_indices[i,:] = recommendations.index"
   ]
  },
  {
   "cell_type": "code",
   "execution_count": 17,
   "metadata": {},
   "outputs": [
    {
     "name": "stdout",
     "output_type": "stream",
     "text": [
      "Average Precision:  0.009438953451311646\n",
      "Average Recall:  0.07502377404801355\n",
      "Average F1 Score:  0.016660500259187937\n"
     ]
    }
   ],
   "source": [
    "#Calculate average precision, recall, and F1 scores\n",
    "\n",
    "precision_matrix = np.zeros(shape=(len(users.columns)))\n",
    "recall_matrix = np.zeros(shape=(len(users.columns)))\n",
    "f1_matrix = np.zeros(shape=(len(users.columns)))\n",
    "\n",
    "for i in users:\n",
    "    top_movies_rated = users[i][users[i]>=3.5]\n",
    "    top_rated_indices = top_movies_rated.index\n",
    "    \n",
    "    tp = len(np.intersect1d(recommendations_indices[i,:], top_rated_indices))\n",
    "    fp = len(recommendations_indices)-tp\n",
    "    fn = len(top_rated_indices)-tp\n",
    "\n",
    "    precision = tp / (tp + fp + 1e-10)\n",
    "    precision_matrix[i] = precision\n",
    "    recall = tp / (tp + fn + 1e-10)\n",
    "    recall_matrix[i] = recall\n",
    "    f1 = 2.0 * (precision * recall) / (precision + recall + 1e-10)\n",
    "    f1_matrix[i] = f1\n",
    "\n",
    "    \n",
    "avg_precision = np.average(precision_matrix)\n",
    "avg_recall = np.average(recall_matrix)\n",
    "avg_f1 = np.average(f1_matrix)\n",
    "print('Average Precision: ', avg_precision)\n",
    "print('Average Recall: ', avg_recall)\n",
    "print('Average F1 Score: ', avg_f1)"
   ]
  }
 ],
 "metadata": {
  "kernelspec": {
   "display_name": "Python 3",
   "language": "python",
   "name": "python3"
  },
  "language_info": {
   "codemirror_mode": {
    "name": "ipython",
    "version": 3
   },
   "file_extension": ".py",
   "mimetype": "text/x-python",
   "name": "python",
   "nbconvert_exporter": "python",
   "pygments_lexer": "ipython3",
   "version": "3.6.7"
  }
 },
 "nbformat": 4,
 "nbformat_minor": 2
}
