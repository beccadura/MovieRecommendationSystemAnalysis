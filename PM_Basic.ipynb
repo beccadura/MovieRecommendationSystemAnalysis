{
 "cells": [
  {
   "cell_type": "code",
   "execution_count": 1,
   "metadata": {
    "id": "xZ3EXaz5qrmf"
   },
   "outputs": [
    {
     "name": "stdout",
     "output_type": "stream",
     "text": [
      "The history saving thread hit an unexpected error (DatabaseError('database disk image is malformed',)).History will not be written to the database.\n"
     ]
    }
   ],
   "source": [
    "import pandas as pd\n",
    "import numpy as np\n",
    "\n",
    "movies = pd.read_csv(\"ml-25m/movies.csv\") \n",
    "ratings = pd.read_csv(\"ml-25m/ratings.csv\") "
   ]
  },
  {
   "cell_type": "code",
   "execution_count": 2,
   "metadata": {},
   "outputs": [
    {
     "name": "stdout",
     "output_type": "stream",
     "text": [
      "<class 'pandas.core.frame.DataFrame'>\n",
      "Int64Index: 407450 entries, 51820 to 24996197\n",
      "Data columns (total 4 columns):\n",
      " #   Column     Non-Null Count   Dtype  \n",
      "---  ------     --------------   -----  \n",
      " 0   userId     407450 non-null  int64  \n",
      " 1   movieId    407450 non-null  int64  \n",
      " 2   rating     407450 non-null  float64\n",
      " 3   timestamp  407450 non-null  int64  \n",
      "dtypes: float64(1), int64(3)\n",
      "memory usage: 15.5 MB\n"
     ]
    }
   ],
   "source": [
    "#Filter data to include movies with at least 14500 ratings and users with at least 250 ratings\n",
    "\n",
    "data = ratings.groupby('movieId').filter(lambda x: len(x) >= 14500)\n",
    "data = data.groupby('userId').filter(lambda x: len(x) >= 250)\n",
    "data.info()"
   ]
  },
  {
   "cell_type": "code",
   "execution_count": 3,
   "metadata": {
    "id": "EaE3IzAiPvb-"
   },
   "outputs": [],
   "source": [
    "#Calculate the average ratings for each movie and add it to a new dataset\n",
    "\n",
    "avg_data = data.groupby('movieId')[['movieId','rating']]. mean()"
   ]
  },
  {
   "cell_type": "code",
   "execution_count": 4,
   "metadata": {
    "colab": {
     "base_uri": "https://localhost:8080/",
     "height": 446
    },
    "id": "_LF4m_FZfin_",
    "outputId": "03417437-4bca-4899-eaae-4e90475463d2"
   },
   "outputs": [
    {
     "data": {
      "text/html": [
       "<div>\n",
       "<style scoped>\n",
       "    .dataframe tbody tr th:only-of-type {\n",
       "        vertical-align: middle;\n",
       "    }\n",
       "\n",
       "    .dataframe tbody tr th {\n",
       "        vertical-align: top;\n",
       "    }\n",
       "\n",
       "    .dataframe thead th {\n",
       "        text-align: right;\n",
       "    }\n",
       "</style>\n",
       "<table border=\"1\" class=\"dataframe\">\n",
       "  <thead>\n",
       "    <tr style=\"text-align: right;\">\n",
       "      <th></th>\n",
       "      <th>movieId</th>\n",
       "      <th>rating</th>\n",
       "    </tr>\n",
       "    <tr>\n",
       "      <th>movieId</th>\n",
       "      <th></th>\n",
       "      <th></th>\n",
       "    </tr>\n",
       "  </thead>\n",
       "  <tbody>\n",
       "    <tr>\n",
       "      <th>318</th>\n",
       "      <td>318</td>\n",
       "      <td>4.415127</td>\n",
       "    </tr>\n",
       "    <tr>\n",
       "      <th>858</th>\n",
       "      <td>858</td>\n",
       "      <td>4.404301</td>\n",
       "    </tr>\n",
       "    <tr>\n",
       "      <th>296</th>\n",
       "      <td>296</td>\n",
       "      <td>4.402373</td>\n",
       "    </tr>\n",
       "    <tr>\n",
       "      <th>1196</th>\n",
       "      <td>1196</td>\n",
       "      <td>4.314599</td>\n",
       "    </tr>\n",
       "    <tr>\n",
       "      <th>1198</th>\n",
       "      <td>1198</td>\n",
       "      <td>4.310673</td>\n",
       "    </tr>\n",
       "    <tr>\n",
       "      <th>...</th>\n",
       "      <td>...</td>\n",
       "      <td>...</td>\n",
       "    </tr>\n",
       "    <tr>\n",
       "      <th>185</th>\n",
       "      <td>185</td>\n",
       "      <td>2.513812</td>\n",
       "    </tr>\n",
       "    <tr>\n",
       "      <th>788</th>\n",
       "      <td>788</td>\n",
       "      <td>2.473963</td>\n",
       "    </tr>\n",
       "    <tr>\n",
       "      <th>153</th>\n",
       "      <td>153</td>\n",
       "      <td>2.450936</td>\n",
       "    </tr>\n",
       "    <tr>\n",
       "      <th>19</th>\n",
       "      <td>19</td>\n",
       "      <td>2.392732</td>\n",
       "    </tr>\n",
       "    <tr>\n",
       "      <th>173</th>\n",
       "      <td>173</td>\n",
       "      <td>2.208456</td>\n",
       "    </tr>\n",
       "  </tbody>\n",
       "</table>\n",
       "<p>335 rows × 2 columns</p>\n",
       "</div>"
      ],
      "text/plain": [
       "         movieId    rating\n",
       "movieId                   \n",
       "318          318  4.415127\n",
       "858          858  4.404301\n",
       "296          296  4.402373\n",
       "1196        1196  4.314599\n",
       "1198        1198  4.310673\n",
       "...          ...       ...\n",
       "185          185  2.513812\n",
       "788          788  2.473963\n",
       "153          153  2.450936\n",
       "19            19  2.392732\n",
       "173          173  2.208456\n",
       "\n",
       "[335 rows x 2 columns]"
      ]
     },
     "execution_count": 4,
     "metadata": {},
     "output_type": "execute_result"
    }
   ],
   "source": [
    "#View movies and their average ratings in descending order\n",
    "\n",
    "avg_data.sort_values('rating', ascending=False)"
   ]
  },
  {
   "cell_type": "code",
   "execution_count": 5,
   "metadata": {
    "id": "xXVsP8UtgcIJ"
   },
   "outputs": [],
   "source": [
    "#Append the averaage rating onto the movies dataset\n",
    "\n",
    "movies['avg_rating'] = avg_data['rating']"
   ]
  },
  {
   "cell_type": "code",
   "execution_count": 6,
   "metadata": {
    "id": "Ui1uJuRbg8fW"
   },
   "outputs": [],
   "source": [
    "#Group the data in the same order by movie average ratings and merge the datasets to contain movieId, title, genres, \n",
    "#and average ratings\n",
    "\n",
    "avg_data2 = data.groupby('movieId')[['rating']].mean()\n",
    "movies_ratings = pd.merge(left=movies, right=avg_data2, left_on='movieId', right_on='movieId')\n",
    "movies_ratings = movies_ratings[['movieId', 'title', 'genres', 'rating']]"
   ]
  },
  {
   "cell_type": "code",
   "execution_count": 7,
   "metadata": {
    "colab": {
     "base_uri": "https://localhost:8080/",
     "height": 415
    },
    "id": "Jh09Gb1eiUeC",
    "outputId": "c7294fdb-4d2b-4354-94bf-b6df361e4983"
   },
   "outputs": [],
   "source": [
    "#Sort the movies in descending order according to their average ratings\n",
    "\n",
    "movies_ratings = movies_ratings.sort_values('rating', ascending=False)"
   ]
  },
  {
   "cell_type": "code",
   "execution_count": 19,
   "metadata": {},
   "outputs": [
    {
     "data": {
      "text/html": [
       "<div>\n",
       "<style scoped>\n",
       "    .dataframe tbody tr th:only-of-type {\n",
       "        vertical-align: middle;\n",
       "    }\n",
       "\n",
       "    .dataframe tbody tr th {\n",
       "        vertical-align: top;\n",
       "    }\n",
       "\n",
       "    .dataframe thead th {\n",
       "        text-align: right;\n",
       "    }\n",
       "</style>\n",
       "<table border=\"1\" class=\"dataframe\">\n",
       "  <thead>\n",
       "    <tr style=\"text-align: right;\">\n",
       "      <th></th>\n",
       "      <th>title</th>\n",
       "      <th>genres</th>\n",
       "      <th>rating</th>\n",
       "    </tr>\n",
       "  </thead>\n",
       "  <tbody>\n",
       "    <tr>\n",
       "      <th>42</th>\n",
       "      <td>Shawshank Redemption, The (1994)</td>\n",
       "      <td>Crime|Drama</td>\n",
       "      <td>4.415127</td>\n",
       "    </tr>\n",
       "    <tr>\n",
       "      <th>92</th>\n",
       "      <td>Godfather, The (1972)</td>\n",
       "      <td>Crime|Drama</td>\n",
       "      <td>4.404301</td>\n",
       "    </tr>\n",
       "    <tr>\n",
       "      <th>38</th>\n",
       "      <td>Pulp Fiction (1994)</td>\n",
       "      <td>Comedy|Crime|Drama|Thriller</td>\n",
       "      <td>4.402373</td>\n",
       "    </tr>\n",
       "    <tr>\n",
       "      <th>117</th>\n",
       "      <td>Star Wars: Episode V - The Empire Strikes Back...</td>\n",
       "      <td>Action|Adventure|Sci-Fi</td>\n",
       "      <td>4.314599</td>\n",
       "    </tr>\n",
       "    <tr>\n",
       "      <th>119</th>\n",
       "      <td>Raiders of the Lost Ark (Indiana Jones and the...</td>\n",
       "      <td>Action|Adventure</td>\n",
       "      <td>4.310673</td>\n",
       "    </tr>\n",
       "    <tr>\n",
       "      <th>...</th>\n",
       "      <td>...</td>\n",
       "      <td>...</td>\n",
       "      <td>...</td>\n",
       "    </tr>\n",
       "    <tr>\n",
       "      <th>27</th>\n",
       "      <td>Net, The (1995)</td>\n",
       "      <td>Action|Crime|Thriller</td>\n",
       "      <td>2.513812</td>\n",
       "    </tr>\n",
       "    <tr>\n",
       "      <th>91</th>\n",
       "      <td>Nutty Professor, The (1996)</td>\n",
       "      <td>Comedy|Fantasy|Romance|Sci-Fi</td>\n",
       "      <td>2.473963</td>\n",
       "    </tr>\n",
       "    <tr>\n",
       "      <th>23</th>\n",
       "      <td>Batman Forever (1995)</td>\n",
       "      <td>Action|Adventure|Comedy|Crime</td>\n",
       "      <td>2.450936</td>\n",
       "    </tr>\n",
       "    <tr>\n",
       "      <th>7</th>\n",
       "      <td>Ace Ventura: When Nature Calls (1995)</td>\n",
       "      <td>Comedy</td>\n",
       "      <td>2.392732</td>\n",
       "    </tr>\n",
       "    <tr>\n",
       "      <th>26</th>\n",
       "      <td>Judge Dredd (1995)</td>\n",
       "      <td>Action|Crime|Sci-Fi</td>\n",
       "      <td>2.208456</td>\n",
       "    </tr>\n",
       "  </tbody>\n",
       "</table>\n",
       "<p>335 rows × 3 columns</p>\n",
       "</div>"
      ],
      "text/plain": [
       "                                                 title  \\\n",
       "42                    Shawshank Redemption, The (1994)   \n",
       "92                               Godfather, The (1972)   \n",
       "38                                 Pulp Fiction (1994)   \n",
       "117  Star Wars: Episode V - The Empire Strikes Back...   \n",
       "119  Raiders of the Lost Ark (Indiana Jones and the...   \n",
       "..                                                 ...   \n",
       "27                                     Net, The (1995)   \n",
       "91                         Nutty Professor, The (1996)   \n",
       "23                               Batman Forever (1995)   \n",
       "7                Ace Ventura: When Nature Calls (1995)   \n",
       "26                                  Judge Dredd (1995)   \n",
       "\n",
       "                            genres    rating  \n",
       "42                     Crime|Drama  4.415127  \n",
       "92                     Crime|Drama  4.404301  \n",
       "38     Comedy|Crime|Drama|Thriller  4.402373  \n",
       "117        Action|Adventure|Sci-Fi  4.314599  \n",
       "119               Action|Adventure  4.310673  \n",
       "..                             ...       ...  \n",
       "27           Action|Crime|Thriller  2.513812  \n",
       "91   Comedy|Fantasy|Romance|Sci-Fi  2.473963  \n",
       "23   Action|Adventure|Comedy|Crime  2.450936  \n",
       "7                           Comedy  2.392732  \n",
       "26             Action|Crime|Sci-Fi  2.208456  \n",
       "\n",
       "[335 rows x 3 columns]"
      ]
     },
     "execution_count": 19,
     "metadata": {},
     "output_type": "execute_result"
    }
   ],
   "source": [
    "#Shows the movies recommended in descending order like a recommender system would\n",
    "\n",
    "movies_ratings[['title', 'genres', 'rating']]"
   ]
  },
  {
   "cell_type": "code",
   "execution_count": 9,
   "metadata": {},
   "outputs": [],
   "source": [
    "#Create a list of the top 25 most popular movies\n",
    "\n",
    "movies_ratings_indices = movies_ratings['movieId'][0:25]"
   ]
  },
  {
   "cell_type": "code",
   "execution_count": 10,
   "metadata": {},
   "outputs": [],
   "source": [
    "#Create a list of all unique users\n",
    "\n",
    "userID_list = data['userId'].unique()"
   ]
  },
  {
   "cell_type": "code",
   "execution_count": 20,
   "metadata": {},
   "outputs": [
    {
     "name": "stdout",
     "output_type": "stream",
     "text": [
      "Average Precision:  0.8141970310358797\n",
      "Average Recall:  0.11373786361472962\n",
      "Average F1 Score:  0.19757752514916344\n"
     ]
    }
   ],
   "source": [
    "#Compute average precision, recall, and F1 score\n",
    "\n",
    "precision_matrix = np.zeros(shape=(len(userID_list)))\n",
    "recall_matrix = np.zeros(shape=(len(userID_list)))\n",
    "f1_matrix = np.zeros(shape=(len(userID_list)))\n",
    "\n",
    "for idx,i in enumerate(userID_list):\n",
    "    userdf = data[data['userId']==i]\n",
    "    top_movies_rated = userdf[userdf['rating']>=3.5]\n",
    "\n",
    "    top_rated_indices = top_movies_rated['movieId'].values\n",
    "    \n",
    "    tp = len(np.intersect1d(movies_ratings_indices, top_rated_indices))\n",
    "    fp = len(movies_ratings_indices)-tp\n",
    "    fn = len(top_rated_indices)-tp\n",
    "\n",
    "    precision = tp / (tp + fp + 1e-10)\n",
    "    precision_matrix[idx] = precision\n",
    "    \n",
    "    recall = tp / (tp + fn + 1e-10)\n",
    "    recall_matrix[idx] = recall\n",
    "\n",
    "    f1 = 2.0 * (precision * recall) / (precision + recall + 1e-10)\n",
    "    f1_matrix[idx] = f1\n",
    "\n",
    "\n",
    "avg_precision = np.average(precision_matrix)\n",
    "avg_recall = np.average(recall_matrix)\n",
    "avg_f1 = np.average(f1_matrix)\n",
    "print('Average Precision: ', avg_precision)\n",
    "print('Average Recall: ', avg_recall)\n",
    "print('Average F1 Score: ', avg_f1)"
   ]
  }
 ],
 "metadata": {
  "colab": {
   "name": "MovieLensDataAnalysis.ipynb",
   "provenance": []
  },
  "kernelspec": {
   "display_name": "Python 3",
   "language": "python",
   "name": "python3"
  },
  "language_info": {
   "codemirror_mode": {
    "name": "ipython",
    "version": 3
   },
   "file_extension": ".py",
   "mimetype": "text/x-python",
   "name": "python",
   "nbconvert_exporter": "python",
   "pygments_lexer": "ipython3",
   "version": "3.6.7"
  }
 },
 "nbformat": 4,
 "nbformat_minor": 1
}
